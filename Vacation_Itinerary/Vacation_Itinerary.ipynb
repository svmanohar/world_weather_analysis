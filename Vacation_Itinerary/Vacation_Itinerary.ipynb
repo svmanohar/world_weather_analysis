{
 "cells": [
  {
   "cell_type": "markdown",
   "metadata": {},
   "source": [
    "## Deliverable 3. Create a Travel Itinerary Map."
   ]
  },
  {
   "cell_type": "code",
   "execution_count": 1,
   "metadata": {},
   "outputs": [],
   "source": [
    "# Dependencies and Setup\n",
    "import pandas as pd\n",
    "import requests\n",
    "import gmaps\n",
    "\n",
    "# Import API key\n",
    "from config import g_key\n",
    "\n",
    "# Configure gmaps\n",
    "gmaps.configure(api_key=g_key)"
   ]
  },
  {
   "cell_type": "code",
   "execution_count": 6,
   "metadata": {},
   "outputs": [
    {
     "output_type": "execute_result",
     "data": {
      "text/plain": [
       "   City_ID        City Country  Max Temp Current Description      Lat  \\\n",
       "0        0         Eyl      SO     75.24          few clouds   7.9803   \n",
       "1        2     Rikitea      PF     78.42     overcast clouds -23.1203   \n",
       "2        6  Banda Aceh      ID     85.19    scattered clouds   5.5577   \n",
       "3        7   Hithadhoo      MV     81.61    scattered clouds  -0.6000   \n",
       "4        8       Akyab      MM     74.55           clear sky  20.1500   \n",
       "\n",
       "        Lng               Hotel Name  \n",
       "0   49.8164              Amiin Hotel  \n",
       "1 -134.9692           Pension Maro'i  \n",
       "2   95.3222  OYO 884 Rumoh PMI Hotel  \n",
       "3   73.0833        Scoop Guest House  \n",
       "4   92.9000             Hotel Memory  "
      ],
      "text/html": "<div>\n<style scoped>\n    .dataframe tbody tr th:only-of-type {\n        vertical-align: middle;\n    }\n\n    .dataframe tbody tr th {\n        vertical-align: top;\n    }\n\n    .dataframe thead th {\n        text-align: right;\n    }\n</style>\n<table border=\"1\" class=\"dataframe\">\n  <thead>\n    <tr style=\"text-align: right;\">\n      <th></th>\n      <th>City_ID</th>\n      <th>City</th>\n      <th>Country</th>\n      <th>Max Temp</th>\n      <th>Current Description</th>\n      <th>Lat</th>\n      <th>Lng</th>\n      <th>Hotel Name</th>\n    </tr>\n  </thead>\n  <tbody>\n    <tr>\n      <th>0</th>\n      <td>0</td>\n      <td>Eyl</td>\n      <td>SO</td>\n      <td>75.24</td>\n      <td>few clouds</td>\n      <td>7.9803</td>\n      <td>49.8164</td>\n      <td>Amiin Hotel</td>\n    </tr>\n    <tr>\n      <th>1</th>\n      <td>2</td>\n      <td>Rikitea</td>\n      <td>PF</td>\n      <td>78.42</td>\n      <td>overcast clouds</td>\n      <td>-23.1203</td>\n      <td>-134.9692</td>\n      <td>Pension Maro'i</td>\n    </tr>\n    <tr>\n      <th>2</th>\n      <td>6</td>\n      <td>Banda Aceh</td>\n      <td>ID</td>\n      <td>85.19</td>\n      <td>scattered clouds</td>\n      <td>5.5577</td>\n      <td>95.3222</td>\n      <td>OYO 884 Rumoh PMI Hotel</td>\n    </tr>\n    <tr>\n      <th>3</th>\n      <td>7</td>\n      <td>Hithadhoo</td>\n      <td>MV</td>\n      <td>81.61</td>\n      <td>scattered clouds</td>\n      <td>-0.6000</td>\n      <td>73.0833</td>\n      <td>Scoop Guest House</td>\n    </tr>\n    <tr>\n      <th>4</th>\n      <td>8</td>\n      <td>Akyab</td>\n      <td>MM</td>\n      <td>74.55</td>\n      <td>clear sky</td>\n      <td>20.1500</td>\n      <td>92.9000</td>\n      <td>Hotel Memory</td>\n    </tr>\n  </tbody>\n</table>\n</div>"
     },
     "metadata": {},
     "execution_count": 6
    }
   ],
   "source": [
    "# 1. Read the WeatherPy_vacation.csv into a DataFrame.\n",
    "# Remember that \"..\" walks the path backwards to the parent\n",
    "vacation_df = pd.read_csv(\"../Vacation_Search/WeatherPy_vacation.csv\")\n",
    "vacation_df.head()"
   ]
  },
  {
   "cell_type": "code",
   "execution_count": 9,
   "metadata": {},
   "outputs": [
    {
     "output_type": "execute_result",
     "data": {
      "text/plain": [
       "         Lat       Lng\n",
       "0     7.9803   49.8164\n",
       "1   -23.1203 -134.9692\n",
       "2     5.5577   95.3222\n",
       "3    -0.6000   73.0833\n",
       "4    20.1500   92.9000\n",
       "..       ...       ...\n",
       "285  -8.3450  113.6058\n",
       "286  -0.9000  -89.6000\n",
       "287 -20.2333  164.0167\n",
       "288  10.9995  122.6711\n",
       "289 -20.3297  -40.2925\n",
       "\n",
       "[290 rows x 2 columns]"
      ],
      "text/html": "<div>\n<style scoped>\n    .dataframe tbody tr th:only-of-type {\n        vertical-align: middle;\n    }\n\n    .dataframe tbody tr th {\n        vertical-align: top;\n    }\n\n    .dataframe thead th {\n        text-align: right;\n    }\n</style>\n<table border=\"1\" class=\"dataframe\">\n  <thead>\n    <tr style=\"text-align: right;\">\n      <th></th>\n      <th>Lat</th>\n      <th>Lng</th>\n    </tr>\n  </thead>\n  <tbody>\n    <tr>\n      <th>0</th>\n      <td>7.9803</td>\n      <td>49.8164</td>\n    </tr>\n    <tr>\n      <th>1</th>\n      <td>-23.1203</td>\n      <td>-134.9692</td>\n    </tr>\n    <tr>\n      <th>2</th>\n      <td>5.5577</td>\n      <td>95.3222</td>\n    </tr>\n    <tr>\n      <th>3</th>\n      <td>-0.6000</td>\n      <td>73.0833</td>\n    </tr>\n    <tr>\n      <th>4</th>\n      <td>20.1500</td>\n      <td>92.9000</td>\n    </tr>\n    <tr>\n      <th>...</th>\n      <td>...</td>\n      <td>...</td>\n    </tr>\n    <tr>\n      <th>285</th>\n      <td>-8.3450</td>\n      <td>113.6058</td>\n    </tr>\n    <tr>\n      <th>286</th>\n      <td>-0.9000</td>\n      <td>-89.6000</td>\n    </tr>\n    <tr>\n      <th>287</th>\n      <td>-20.2333</td>\n      <td>164.0167</td>\n    </tr>\n    <tr>\n      <th>288</th>\n      <td>10.9995</td>\n      <td>122.6711</td>\n    </tr>\n    <tr>\n      <th>289</th>\n      <td>-20.3297</td>\n      <td>-40.2925</td>\n    </tr>\n  </tbody>\n</table>\n<p>290 rows × 2 columns</p>\n</div>"
     },
     "metadata": {},
     "execution_count": 9
    }
   ],
   "source": [
    "# 2. Using the template add the city name, the country code, the weather description and maximum temperature for the city.\n",
    "info_box_template = \"\"\"\n",
    "<dl>\n",
    "<dt>City</dt><dd>{City}</dd>\n",
    "<dt>Country</dt><dd>{Country}</dd>\n",
    "<dt>Weather Description</dt><dd>{Current Description}</dd>\n",
    "<dt>Max Temp</dt><dd>{Max Temp} °F</dd>\n",
    "</dl>\n",
    "\"\"\"\n",
    "\n",
    "# 3a. Get the data from each row and add it to the formatting template and store the data in a list.\n",
    "hotel_info = [info_box_template.format(**row) for index, row in vacation_df.iterrows()]\n",
    "\n",
    "# 3b. Get the latitude and longitude from each row and store in a new DataFrame.\n",
    "locations = vacation_df[[\"Lat\", \"Lng\"]]"
   ]
  },
  {
   "cell_type": "code",
   "execution_count": 10,
   "metadata": {},
   "outputs": [
    {
     "output_type": "display_data",
     "data": {
      "text/plain": "Figure(layout=FigureLayout(height='420px'))",
      "application/vnd.jupyter.widget-view+json": {
       "version_major": 2,
       "version_minor": 0,
       "model_id": "728e6b7f3e044ae2bd50cb5f0dc4739c"
      }
     },
     "metadata": {}
    }
   ],
   "source": [
    "# 4a. Add a marker layer for each city to the map.\n",
    "fig = gmaps.figure(center=(30.0, 31.0), zoom_level=1.5)\n",
    "marker_layer = gmaps.marker_layer(locations, info_box_content=hotel_info)\n",
    "fig.add_layer(marker_layer)\n",
    "# 4b. Display the figure\n",
    "fig\n"
   ]
  },
  {
   "cell_type": "code",
   "execution_count": 14,
   "metadata": {},
   "outputs": [
    {
     "output_type": "execute_result",
     "data": {
      "text/plain": [
       "     City_ID           City Country  Max Temp Current Description     Lat  \\\n",
       "202      471  Kanniyakumari      IN     78.89           clear sky  8.0833   \n",
       "\n",
       "         Lng Hotel Name  \n",
       "202  77.5667     Sparsa  "
      ],
      "text/html": "<div>\n<style scoped>\n    .dataframe tbody tr th:only-of-type {\n        vertical-align: middle;\n    }\n\n    .dataframe tbody tr th {\n        vertical-align: top;\n    }\n\n    .dataframe thead th {\n        text-align: right;\n    }\n</style>\n<table border=\"1\" class=\"dataframe\">\n  <thead>\n    <tr style=\"text-align: right;\">\n      <th></th>\n      <th>City_ID</th>\n      <th>City</th>\n      <th>Country</th>\n      <th>Max Temp</th>\n      <th>Current Description</th>\n      <th>Lat</th>\n      <th>Lng</th>\n      <th>Hotel Name</th>\n    </tr>\n  </thead>\n  <tbody>\n    <tr>\n      <th>202</th>\n      <td>471</td>\n      <td>Kanniyakumari</td>\n      <td>IN</td>\n      <td>78.89</td>\n      <td>clear sky</td>\n      <td>8.0833</td>\n      <td>77.5667</td>\n      <td>Sparsa</td>\n    </tr>\n  </tbody>\n</table>\n</div>"
     },
     "metadata": {},
     "execution_count": 14
    }
   ],
   "source": [
    "vacation_df.loc[vacation_df[\"City\"] == \"Kanniyakumari\"]"
   ]
  },
  {
   "cell_type": "code",
   "execution_count": 21,
   "metadata": {},
   "outputs": [],
   "source": [
    "# From the map above pick 4 cities and create a vacation itinerary route to travel between the four cities. \n",
    "\n",
    "# Start - Kanniyakumari\n",
    "# Stop 1 - Thiruvananthapuram\n",
    "# Stop 2 - Arani\n",
    "# Stop 3 - Ponnani\n",
    "# End - Kanniyakumari\n",
    "\n",
    "# 5. Create DataFrames for each city by filtering the 'vacation_df' using the loc method. \n",
    "# Hint: The starting and ending city should be the same city.\n",
    "\n",
    "vacation_start = vacation_df.loc[vacation_df[\"City\"] == \"Kanniyakumari\"]\n",
    "vacation_end = vacation_df.loc[vacation_df[\"City\"] == \"Thiruvananthapuram\"]\n",
    "vacation_stop1 = vacation_df.loc[vacation_df[\"City\"] == \"Arani\"]\n",
    "vacation_stop2 = vacation_df.loc[vacation_df[\"City\"] == \"Ponnani\"] \n",
    "vacation_stop3 = vacation_df.loc[vacation_df[\"City\"] == \"Kanniyakumari\"]"
   ]
  },
  {
   "cell_type": "code",
   "execution_count": 71,
   "metadata": {},
   "outputs": [
    {
     "output_type": "execute_result",
     "data": {
      "text/plain": [
       "(8.0833, 77.5667)"
      ]
     },
     "metadata": {},
     "execution_count": 71
    }
   ],
   "source": [
    "lng = tuple(vacation_start.to_numpy()[0][5:7])\n"
   ]
  },
  {
   "cell_type": "code",
   "execution_count": 72,
   "metadata": {},
   "outputs": [],
   "source": [
    "# 6. Get the latitude-longitude pairs as tuples from each city DataFrame using the to_numpy function and list indexing. Columns 5 and 6 contain the latitude and longitude of each city\n",
    "# We convert the dataframe to a NumPy array, access the first (only) item, and the 6th and 7th values from it\n",
    "start = tuple(vacation_start.to_numpy()[0][5:7])\n",
    "end = tuple(vacation_end.to_numpy()[0][5:7])\n",
    "stop1 = tuple(vacation_stop1.to_numpy()[0][5:7])\n",
    "stop2 = tuple(vacation_stop2.to_numpy()[0][5:7])\n",
    "stop3 = tuple(vacation_stop3.to_numpy()[0][5:7])"
   ]
  },
  {
   "cell_type": "code",
   "execution_count": 73,
   "metadata": {
    "scrolled": true
   },
   "outputs": [
    {
     "output_type": "display_data",
     "data": {
      "text/plain": "Figure(layout=FigureLayout(height='420px'))",
      "application/vnd.jupyter.widget-view+json": {
       "version_major": 2,
       "version_minor": 0,
       "model_id": "ebe4989b06f8449599211b5d92f700b9"
      }
     },
     "metadata": {}
    }
   ],
   "source": [
    "# 7. Create a direction layer map using the start and end latitude-longitude pairs,\n",
    "# and stop1, stop2, and stop3 as the waypoints. The travel_mode should be \"DRIVING\", \"BICYCLING\", or \"WALKING\".\n",
    "\n",
    "fig = gmaps.figure()\n",
    "vacation_trip = gmaps.directions_layer(start, end, \n",
    "                waypoints=[stop1, stop2, stop3],\n",
    "                travel_mode='DRIVING')\n",
    "fig.add_layer(vacation_trip)\n",
    "fig"
   ]
  },
  {
   "cell_type": "code",
   "execution_count": 74,
   "metadata": {},
   "outputs": [
    {
     "output_type": "execute_result",
     "data": {
      "text/plain": [
       "   City_ID                City Country  Max Temp Current Description      Lat  \\\n",
       "0      471       Kanniyakumari      IN     78.89           clear sky   8.0833   \n",
       "1      454  Thiruvananthapuram      IN     84.20                haze   8.4833   \n",
       "2      251               Arani      IN     71.74           clear sky  12.6667   \n",
       "3      574             Ponnani      IN     75.20                haze  10.7670   \n",
       "4      471       Kanniyakumari      IN     78.89           clear sky   8.0833   \n",
       "\n",
       "       Lng             Hotel Name  \n",
       "0  77.5667                 Sparsa  \n",
       "1  76.9167  Hotel Residency Tower  \n",
       "2  79.2833              KPK LODGE  \n",
       "3  75.9252        Rouba Residency  \n",
       "4  77.5667                 Sparsa  "
      ],
      "text/html": "<div>\n<style scoped>\n    .dataframe tbody tr th:only-of-type {\n        vertical-align: middle;\n    }\n\n    .dataframe tbody tr th {\n        vertical-align: top;\n    }\n\n    .dataframe thead th {\n        text-align: right;\n    }\n</style>\n<table border=\"1\" class=\"dataframe\">\n  <thead>\n    <tr style=\"text-align: right;\">\n      <th></th>\n      <th>City_ID</th>\n      <th>City</th>\n      <th>Country</th>\n      <th>Max Temp</th>\n      <th>Current Description</th>\n      <th>Lat</th>\n      <th>Lng</th>\n      <th>Hotel Name</th>\n    </tr>\n  </thead>\n  <tbody>\n    <tr>\n      <th>0</th>\n      <td>471</td>\n      <td>Kanniyakumari</td>\n      <td>IN</td>\n      <td>78.89</td>\n      <td>clear sky</td>\n      <td>8.0833</td>\n      <td>77.5667</td>\n      <td>Sparsa</td>\n    </tr>\n    <tr>\n      <th>1</th>\n      <td>454</td>\n      <td>Thiruvananthapuram</td>\n      <td>IN</td>\n      <td>84.20</td>\n      <td>haze</td>\n      <td>8.4833</td>\n      <td>76.9167</td>\n      <td>Hotel Residency Tower</td>\n    </tr>\n    <tr>\n      <th>2</th>\n      <td>251</td>\n      <td>Arani</td>\n      <td>IN</td>\n      <td>71.74</td>\n      <td>clear sky</td>\n      <td>12.6667</td>\n      <td>79.2833</td>\n      <td>KPK LODGE</td>\n    </tr>\n    <tr>\n      <th>3</th>\n      <td>574</td>\n      <td>Ponnani</td>\n      <td>IN</td>\n      <td>75.20</td>\n      <td>haze</td>\n      <td>10.7670</td>\n      <td>75.9252</td>\n      <td>Rouba Residency</td>\n    </tr>\n    <tr>\n      <th>4</th>\n      <td>471</td>\n      <td>Kanniyakumari</td>\n      <td>IN</td>\n      <td>78.89</td>\n      <td>clear sky</td>\n      <td>8.0833</td>\n      <td>77.5667</td>\n      <td>Sparsa</td>\n    </tr>\n  </tbody>\n</table>\n</div>"
     },
     "metadata": {},
     "execution_count": 74
    }
   ],
   "source": [
    "# 8. To create a marker layer map between the four cities.\n",
    "#  Combine the four city DataFrames into one DataFrame using the concat() function.\n",
    "itinerary_df = pd.concat([vacation_start,\n",
    "                            vacation_end,\n",
    "                            vacation_stop1,\n",
    "                            vacation_stop2,\n",
    "                            vacation_stop3],\n",
    "                            ignore_index=True)\n",
    "itinerary_df"
   ]
  },
  {
   "cell_type": "code",
   "execution_count": 76,
   "metadata": {},
   "outputs": [],
   "source": [
    "# 9 Using the template add city name, the country code, the weather description and maximum temperature for the city. \n",
    "info_box_template = \"\"\"\n",
    "<dl>\n",
    "<dt>City</dt><dd>{City}</dd>\n",
    "<dt>Country</dt><dd>{Country}</dd>\n",
    "<dt>Weather Description</dt><dd>{Current Description}</dd>\n",
    "<dt>Max Temp</dt><dd>{Max Temp} °F</dd>\n",
    "</dl>\n",
    "\"\"\"\n",
    "\n",
    "# 10a Get the data from each row and add it to the formatting template and store the data in a list.\n",
    "hotel_info = [info_box_template.format(**row) for index, row in itinerary_df.iterrows()]\n",
    "\n",
    "# 10b. Get the latitude and longitude from each row and store in a new DataFrame.\n",
    "locations = itinerary_df[[\"Lat\", \"Lng\"]]"
   ]
  },
  {
   "cell_type": "code",
   "execution_count": 79,
   "metadata": {},
   "outputs": [
    {
     "output_type": "display_data",
     "data": {
      "text/plain": "Figure(layout=FigureLayout(height='420px'))",
      "application/vnd.jupyter.widget-view+json": {
       "version_major": 2,
       "version_minor": 0,
       "model_id": "124611c462384832af9966d74d7ab2ac"
      }
     },
     "metadata": {}
    }
   ],
   "source": [
    "# 11a. Add a marker layer for each city to the map.\n",
    "fig = gmaps.figure(center=(30.0, 31.0), zoom_level=1.5)\n",
    "marker_layer = gmaps.marker_layer(locations, info_box_content=hotel_info)\n",
    "\n",
    "# Add vacation trip and marker layers to our figure\n",
    "fig.add_layer(marker_layer)\n",
    "# 11b. Display the figure\n",
    "fig"
   ]
  },
  {
   "cell_type": "code",
   "execution_count": null,
   "metadata": {},
   "outputs": [],
   "source": []
  }
 ],
 "metadata": {
  "kernelspec": {
   "name": "python3",
   "display_name": "Python 3.7.9 64-bit ('PythonData': conda)",
   "metadata": {
    "interpreter": {
     "hash": "4cd7c7a3b14b909643c398b54191d9f59d48810cd9771b7672f479dba4a3d987"
    }
   }
  },
  "language_info": {
   "codemirror_mode": {
    "name": "ipython",
    "version": 3
   },
   "file_extension": ".py",
   "mimetype": "text/x-python",
   "name": "python",
   "nbconvert_exporter": "python",
   "pygments_lexer": "ipython3",
   "version": "3.7.9-final"
  },
  "latex_envs": {
   "LaTeX_envs_menu_present": true,
   "autoclose": false,
   "autocomplete": true,
   "bibliofile": "biblio.bib",
   "cite_by": "apalike",
   "current_citInitial": 1,
   "eqLabelWithNumbers": true,
   "eqNumInitial": 1,
   "hotkeys": {
    "equation": "Ctrl-E",
    "itemize": "Ctrl-I"
   },
   "labels_anchors": false,
   "latex_user_defs": false,
   "report_style_numbering": false,
   "user_envs_cfg": false
  }
 },
 "nbformat": 4,
 "nbformat_minor": 2
}