{
 "cells": [
  {
   "source": [
    "## Deliverable 2. Create a Customer Travel Destinations Map."
   ],
   "cell_type": "markdown",
   "metadata": {}
  },
  {
   "cell_type": "code",
   "execution_count": 31,
   "metadata": {},
   "outputs": [],
   "source": [
    "# Dependencies and Setup\n",
    "import pandas as pd\n",
    "import requests\n",
    "import gmaps\n",
    "import numpy as np\n",
    "\n",
    "# Import API key\n",
    "from config import g_key\n",
    "\n",
    "# Configure gmaps API key\n",
    "gmaps.configure(api_key=g_key)"
   ]
  },
  {
   "cell_type": "code",
   "execution_count": 4,
   "metadata": {},
   "outputs": [
    {
     "output_type": "execute_result",
     "data": {
      "text/plain": [
       "   City_ID            City Country      Lat       Lng  Max Temp  Humidity  \\\n",
       "0        0             Eyl      SO   7.9803   49.8164     75.24        80   \n",
       "1        1  Saint-Augustin      CA  51.2260  -58.6502     28.67        96   \n",
       "2        2         Rikitea      PF -23.1203 -134.9692     78.42        71   \n",
       "3        3         Kajaani      FI  64.2273   27.7285     14.00        85   \n",
       "4        4  Ribeira Grande      PT  38.5167  -28.7000     61.23        89   \n",
       "\n",
       "   Cloudiness  Wind Speed      Description  \n",
       "0          16       13.38       few clouds  \n",
       "1          99       23.51  overcast clouds  \n",
       "2          87       10.58  overcast clouds  \n",
       "3          90        8.05  overcast clouds  \n",
       "4          94       21.97  overcast clouds  "
      ],
      "text/html": "<div>\n<style scoped>\n    .dataframe tbody tr th:only-of-type {\n        vertical-align: middle;\n    }\n\n    .dataframe tbody tr th {\n        vertical-align: top;\n    }\n\n    .dataframe thead th {\n        text-align: right;\n    }\n</style>\n<table border=\"1\" class=\"dataframe\">\n  <thead>\n    <tr style=\"text-align: right;\">\n      <th></th>\n      <th>City_ID</th>\n      <th>City</th>\n      <th>Country</th>\n      <th>Lat</th>\n      <th>Lng</th>\n      <th>Max Temp</th>\n      <th>Humidity</th>\n      <th>Cloudiness</th>\n      <th>Wind Speed</th>\n      <th>Description</th>\n    </tr>\n  </thead>\n  <tbody>\n    <tr>\n      <th>0</th>\n      <td>0</td>\n      <td>Eyl</td>\n      <td>SO</td>\n      <td>7.9803</td>\n      <td>49.8164</td>\n      <td>75.24</td>\n      <td>80</td>\n      <td>16</td>\n      <td>13.38</td>\n      <td>few clouds</td>\n    </tr>\n    <tr>\n      <th>1</th>\n      <td>1</td>\n      <td>Saint-Augustin</td>\n      <td>CA</td>\n      <td>51.2260</td>\n      <td>-58.6502</td>\n      <td>28.67</td>\n      <td>96</td>\n      <td>99</td>\n      <td>23.51</td>\n      <td>overcast clouds</td>\n    </tr>\n    <tr>\n      <th>2</th>\n      <td>2</td>\n      <td>Rikitea</td>\n      <td>PF</td>\n      <td>-23.1203</td>\n      <td>-134.9692</td>\n      <td>78.42</td>\n      <td>71</td>\n      <td>87</td>\n      <td>10.58</td>\n      <td>overcast clouds</td>\n    </tr>\n    <tr>\n      <th>3</th>\n      <td>3</td>\n      <td>Kajaani</td>\n      <td>FI</td>\n      <td>64.2273</td>\n      <td>27.7285</td>\n      <td>14.00</td>\n      <td>85</td>\n      <td>90</td>\n      <td>8.05</td>\n      <td>overcast clouds</td>\n    </tr>\n    <tr>\n      <th>4</th>\n      <td>4</td>\n      <td>Ribeira Grande</td>\n      <td>PT</td>\n      <td>38.5167</td>\n      <td>-28.7000</td>\n      <td>61.23</td>\n      <td>89</td>\n      <td>94</td>\n      <td>21.97</td>\n      <td>overcast clouds</td>\n    </tr>\n  </tbody>\n</table>\n</div>"
     },
     "metadata": {},
     "execution_count": 4
    }
   ],
   "source": [
    "# 1. Import the WeatherPy_database.csv file. \n",
    "city_data_df = pd.read_csv(\"Weather_Database/WeatherPy_database.csv\")\n",
    "city_data_df.head()"
   ]
  },
  {
   "cell_type": "code",
   "execution_count": 6,
   "metadata": {},
   "outputs": [],
   "source": [
    "# 2. Prompt the user to enter minimum and maximum temperature criteria \n",
    "\n",
    "min_temp = float(input(\"What is the minimum temperature you would like for your trip? \"))\n",
    "max_temp = float(input(\"What is the maximum temperature you would like for your trip? \"))"
   ]
  },
  {
   "cell_type": "code",
   "execution_count": 7,
   "metadata": {},
   "outputs": [
    {
     "output_type": "execute_result",
     "data": {
      "text/plain": [
       "     City_ID                     City Country      Lat       Lng  Max Temp  \\\n",
       "0          0                      Eyl      SO   7.9803   49.8164     75.24   \n",
       "2          2                  Rikitea      PF -23.1203 -134.9692     78.42   \n",
       "6          6               Banda Aceh      ID   5.5577   95.3222     85.19   \n",
       "7          7                Hithadhoo      MV  -0.6000   73.0833     81.61   \n",
       "8          8                    Akyab      MM  20.1500   92.9000     74.55   \n",
       "..       ...                      ...     ...      ...       ...       ...   \n",
       "677      677                   Ambulu      ID  -8.3450  113.6058     87.51   \n",
       "678      678  Puerto Baquerizo Moreno      EC  -0.9000  -89.6000     76.51   \n",
       "679      679                     Poum      NC -20.2333  164.0167     81.32   \n",
       "680      680                   Dingle      PH  10.9995  122.6711     82.35   \n",
       "681      681               Vila Velha      BR -20.3297  -40.2925     73.99   \n",
       "\n",
       "     Humidity  Cloudiness  Wind Speed       Description  \n",
       "0          80          16       13.38        few clouds  \n",
       "2          71          87       10.58   overcast clouds  \n",
       "6          66          26       11.07  scattered clouds  \n",
       "7          74          33       12.12  scattered clouds  \n",
       "8          38           0        6.69         clear sky  \n",
       "..        ...         ...         ...               ...  \n",
       "677        62          23        4.05        few clouds  \n",
       "678        87          22        8.05        few clouds  \n",
       "679        66           6        7.27         clear sky  \n",
       "680        79          58       13.65     broken clouds  \n",
       "681        88          90        6.91   overcast clouds  \n",
       "\n",
       "[293 rows x 10 columns]"
      ],
      "text/html": "<div>\n<style scoped>\n    .dataframe tbody tr th:only-of-type {\n        vertical-align: middle;\n    }\n\n    .dataframe tbody tr th {\n        vertical-align: top;\n    }\n\n    .dataframe thead th {\n        text-align: right;\n    }\n</style>\n<table border=\"1\" class=\"dataframe\">\n  <thead>\n    <tr style=\"text-align: right;\">\n      <th></th>\n      <th>City_ID</th>\n      <th>City</th>\n      <th>Country</th>\n      <th>Lat</th>\n      <th>Lng</th>\n      <th>Max Temp</th>\n      <th>Humidity</th>\n      <th>Cloudiness</th>\n      <th>Wind Speed</th>\n      <th>Description</th>\n    </tr>\n  </thead>\n  <tbody>\n    <tr>\n      <th>0</th>\n      <td>0</td>\n      <td>Eyl</td>\n      <td>SO</td>\n      <td>7.9803</td>\n      <td>49.8164</td>\n      <td>75.24</td>\n      <td>80</td>\n      <td>16</td>\n      <td>13.38</td>\n      <td>few clouds</td>\n    </tr>\n    <tr>\n      <th>2</th>\n      <td>2</td>\n      <td>Rikitea</td>\n      <td>PF</td>\n      <td>-23.1203</td>\n      <td>-134.9692</td>\n      <td>78.42</td>\n      <td>71</td>\n      <td>87</td>\n      <td>10.58</td>\n      <td>overcast clouds</td>\n    </tr>\n    <tr>\n      <th>6</th>\n      <td>6</td>\n      <td>Banda Aceh</td>\n      <td>ID</td>\n      <td>5.5577</td>\n      <td>95.3222</td>\n      <td>85.19</td>\n      <td>66</td>\n      <td>26</td>\n      <td>11.07</td>\n      <td>scattered clouds</td>\n    </tr>\n    <tr>\n      <th>7</th>\n      <td>7</td>\n      <td>Hithadhoo</td>\n      <td>MV</td>\n      <td>-0.6000</td>\n      <td>73.0833</td>\n      <td>81.61</td>\n      <td>74</td>\n      <td>33</td>\n      <td>12.12</td>\n      <td>scattered clouds</td>\n    </tr>\n    <tr>\n      <th>8</th>\n      <td>8</td>\n      <td>Akyab</td>\n      <td>MM</td>\n      <td>20.1500</td>\n      <td>92.9000</td>\n      <td>74.55</td>\n      <td>38</td>\n      <td>0</td>\n      <td>6.69</td>\n      <td>clear sky</td>\n    </tr>\n    <tr>\n      <th>...</th>\n      <td>...</td>\n      <td>...</td>\n      <td>...</td>\n      <td>...</td>\n      <td>...</td>\n      <td>...</td>\n      <td>...</td>\n      <td>...</td>\n      <td>...</td>\n      <td>...</td>\n    </tr>\n    <tr>\n      <th>677</th>\n      <td>677</td>\n      <td>Ambulu</td>\n      <td>ID</td>\n      <td>-8.3450</td>\n      <td>113.6058</td>\n      <td>87.51</td>\n      <td>62</td>\n      <td>23</td>\n      <td>4.05</td>\n      <td>few clouds</td>\n    </tr>\n    <tr>\n      <th>678</th>\n      <td>678</td>\n      <td>Puerto Baquerizo Moreno</td>\n      <td>EC</td>\n      <td>-0.9000</td>\n      <td>-89.6000</td>\n      <td>76.51</td>\n      <td>87</td>\n      <td>22</td>\n      <td>8.05</td>\n      <td>few clouds</td>\n    </tr>\n    <tr>\n      <th>679</th>\n      <td>679</td>\n      <td>Poum</td>\n      <td>NC</td>\n      <td>-20.2333</td>\n      <td>164.0167</td>\n      <td>81.32</td>\n      <td>66</td>\n      <td>6</td>\n      <td>7.27</td>\n      <td>clear sky</td>\n    </tr>\n    <tr>\n      <th>680</th>\n      <td>680</td>\n      <td>Dingle</td>\n      <td>PH</td>\n      <td>10.9995</td>\n      <td>122.6711</td>\n      <td>82.35</td>\n      <td>79</td>\n      <td>58</td>\n      <td>13.65</td>\n      <td>broken clouds</td>\n    </tr>\n    <tr>\n      <th>681</th>\n      <td>681</td>\n      <td>Vila Velha</td>\n      <td>BR</td>\n      <td>-20.3297</td>\n      <td>-40.2925</td>\n      <td>73.99</td>\n      <td>88</td>\n      <td>90</td>\n      <td>6.91</td>\n      <td>overcast clouds</td>\n    </tr>\n  </tbody>\n</table>\n<p>293 rows × 10 columns</p>\n</div>"
     },
     "metadata": {},
     "execution_count": 7
    }
   ],
   "source": [
    "# 3. Filter the city_data_df DataFrame using the input statements to create a new DataFrame using the loc method.\n",
    "\n",
    "preferred_cities_df = city_data_df.loc[(city_data_df[\"Max Temp\"] <= max_temp) & (city_data_df[\"Max Temp\"] >= min_temp)]\n",
    "\n",
    "preferred_cities_df\n"
   ]
  },
  {
   "cell_type": "code",
   "execution_count": 36,
   "metadata": {},
   "outputs": [
    {
     "output_type": "execute_result",
     "data": {
      "text/plain": [
       "(array([ 18, 154, 258]), array([2, 2, 2]))"
      ]
     },
     "metadata": {},
     "execution_count": 36
    }
   ],
   "source": [
    "# 4a. Determine if there are any empty rows. (DATA CLEANING) ---------------\n",
    "\n",
    "# preferred_cities_df.isna().count()\n",
    "# preferred_cities_df.count()\n",
    "np.where(preferred_cities_df.isnull())\n",
    "# preferred_cities_df.iloc[18]"
   ]
  },
  {
   "cell_type": "code",
   "execution_count": 43,
   "metadata": {},
   "outputs": [
    {
     "output_type": "execute_result",
     "data": {
      "text/plain": [
       "     City_ID      City Country      Lat      Lng  Max Temp  Humidity  \\\n",
       "45        45  Luderitz     NaN -26.6481  15.1594     67.05        74   \n",
       "362      362     Opuwo     NaN -18.0607  13.8400     69.48        43   \n",
       "607      607  Khorixas     NaN -20.3667  14.9667     68.90        48   \n",
       "\n",
       "     Cloudiness  Wind Speed       Description  \n",
       "45            0       25.97         clear sky  \n",
       "362          92        3.11   overcast clouds  \n",
       "607          46        2.82  scattered clouds  "
      ],
      "text/html": "<div>\n<style scoped>\n    .dataframe tbody tr th:only-of-type {\n        vertical-align: middle;\n    }\n\n    .dataframe tbody tr th {\n        vertical-align: top;\n    }\n\n    .dataframe thead th {\n        text-align: right;\n    }\n</style>\n<table border=\"1\" class=\"dataframe\">\n  <thead>\n    <tr style=\"text-align: right;\">\n      <th></th>\n      <th>City_ID</th>\n      <th>City</th>\n      <th>Country</th>\n      <th>Lat</th>\n      <th>Lng</th>\n      <th>Max Temp</th>\n      <th>Humidity</th>\n      <th>Cloudiness</th>\n      <th>Wind Speed</th>\n      <th>Description</th>\n    </tr>\n  </thead>\n  <tbody>\n    <tr>\n      <th>45</th>\n      <td>45</td>\n      <td>Luderitz</td>\n      <td>NaN</td>\n      <td>-26.6481</td>\n      <td>15.1594</td>\n      <td>67.05</td>\n      <td>74</td>\n      <td>0</td>\n      <td>25.97</td>\n      <td>clear sky</td>\n    </tr>\n    <tr>\n      <th>362</th>\n      <td>362</td>\n      <td>Opuwo</td>\n      <td>NaN</td>\n      <td>-18.0607</td>\n      <td>13.8400</td>\n      <td>69.48</td>\n      <td>43</td>\n      <td>92</td>\n      <td>3.11</td>\n      <td>overcast clouds</td>\n    </tr>\n    <tr>\n      <th>607</th>\n      <td>607</td>\n      <td>Khorixas</td>\n      <td>NaN</td>\n      <td>-20.3667</td>\n      <td>14.9667</td>\n      <td>68.90</td>\n      <td>48</td>\n      <td>46</td>\n      <td>2.82</td>\n      <td>scattered clouds</td>\n    </tr>\n  </tbody>\n</table>\n</div>"
     },
     "metadata": {},
     "execution_count": 43
    }
   ],
   "source": [
    "# Using pandas isnull() method, we can pass this into the loc function USING SQUARE BRACKETS TO INDEX\n",
    "# Returns a new dataframe with all rows meeting the condition isnull==True\n",
    "# As we can see, there are three cities whose countries are returning NaN\n",
    "preferred_cities_df.loc[preferred_cities_df[\"Country\"].isnull() == True]\n"
   ]
  },
  {
   "cell_type": "code",
   "execution_count": 45,
   "metadata": {},
   "outputs": [
    {
     "output_type": "execute_result",
     "data": {
      "text/plain": [
       "     City_ID                     City Country      Lat       Lng  Max Temp  \\\n",
       "0          0                      Eyl      SO   7.9803   49.8164     75.24   \n",
       "2          2                  Rikitea      PF -23.1203 -134.9692     78.42   \n",
       "6          6               Banda Aceh      ID   5.5577   95.3222     85.19   \n",
       "7          7                Hithadhoo      MV  -0.6000   73.0833     81.61   \n",
       "8          8                    Akyab      MM  20.1500   92.9000     74.55   \n",
       "..       ...                      ...     ...      ...       ...       ...   \n",
       "677      677                   Ambulu      ID  -8.3450  113.6058     87.51   \n",
       "678      678  Puerto Baquerizo Moreno      EC  -0.9000  -89.6000     76.51   \n",
       "679      679                     Poum      NC -20.2333  164.0167     81.32   \n",
       "680      680                   Dingle      PH  10.9995  122.6711     82.35   \n",
       "681      681               Vila Velha      BR -20.3297  -40.2925     73.99   \n",
       "\n",
       "     Humidity  Cloudiness  Wind Speed       Description  \n",
       "0          80          16       13.38        few clouds  \n",
       "2          71          87       10.58   overcast clouds  \n",
       "6          66          26       11.07  scattered clouds  \n",
       "7          74          33       12.12  scattered clouds  \n",
       "8          38           0        6.69         clear sky  \n",
       "..        ...         ...         ...               ...  \n",
       "677        62          23        4.05        few clouds  \n",
       "678        87          22        8.05        few clouds  \n",
       "679        66           6        7.27         clear sky  \n",
       "680        79          58       13.65     broken clouds  \n",
       "681        88          90        6.91   overcast clouds  \n",
       "\n",
       "[290 rows x 10 columns]"
      ],
      "text/html": "<div>\n<style scoped>\n    .dataframe tbody tr th:only-of-type {\n        vertical-align: middle;\n    }\n\n    .dataframe tbody tr th {\n        vertical-align: top;\n    }\n\n    .dataframe thead th {\n        text-align: right;\n    }\n</style>\n<table border=\"1\" class=\"dataframe\">\n  <thead>\n    <tr style=\"text-align: right;\">\n      <th></th>\n      <th>City_ID</th>\n      <th>City</th>\n      <th>Country</th>\n      <th>Lat</th>\n      <th>Lng</th>\n      <th>Max Temp</th>\n      <th>Humidity</th>\n      <th>Cloudiness</th>\n      <th>Wind Speed</th>\n      <th>Description</th>\n    </tr>\n  </thead>\n  <tbody>\n    <tr>\n      <th>0</th>\n      <td>0</td>\n      <td>Eyl</td>\n      <td>SO</td>\n      <td>7.9803</td>\n      <td>49.8164</td>\n      <td>75.24</td>\n      <td>80</td>\n      <td>16</td>\n      <td>13.38</td>\n      <td>few clouds</td>\n    </tr>\n    <tr>\n      <th>2</th>\n      <td>2</td>\n      <td>Rikitea</td>\n      <td>PF</td>\n      <td>-23.1203</td>\n      <td>-134.9692</td>\n      <td>78.42</td>\n      <td>71</td>\n      <td>87</td>\n      <td>10.58</td>\n      <td>overcast clouds</td>\n    </tr>\n    <tr>\n      <th>6</th>\n      <td>6</td>\n      <td>Banda Aceh</td>\n      <td>ID</td>\n      <td>5.5577</td>\n      <td>95.3222</td>\n      <td>85.19</td>\n      <td>66</td>\n      <td>26</td>\n      <td>11.07</td>\n      <td>scattered clouds</td>\n    </tr>\n    <tr>\n      <th>7</th>\n      <td>7</td>\n      <td>Hithadhoo</td>\n      <td>MV</td>\n      <td>-0.6000</td>\n      <td>73.0833</td>\n      <td>81.61</td>\n      <td>74</td>\n      <td>33</td>\n      <td>12.12</td>\n      <td>scattered clouds</td>\n    </tr>\n    <tr>\n      <th>8</th>\n      <td>8</td>\n      <td>Akyab</td>\n      <td>MM</td>\n      <td>20.1500</td>\n      <td>92.9000</td>\n      <td>74.55</td>\n      <td>38</td>\n      <td>0</td>\n      <td>6.69</td>\n      <td>clear sky</td>\n    </tr>\n    <tr>\n      <th>...</th>\n      <td>...</td>\n      <td>...</td>\n      <td>...</td>\n      <td>...</td>\n      <td>...</td>\n      <td>...</td>\n      <td>...</td>\n      <td>...</td>\n      <td>...</td>\n      <td>...</td>\n    </tr>\n    <tr>\n      <th>677</th>\n      <td>677</td>\n      <td>Ambulu</td>\n      <td>ID</td>\n      <td>-8.3450</td>\n      <td>113.6058</td>\n      <td>87.51</td>\n      <td>62</td>\n      <td>23</td>\n      <td>4.05</td>\n      <td>few clouds</td>\n    </tr>\n    <tr>\n      <th>678</th>\n      <td>678</td>\n      <td>Puerto Baquerizo Moreno</td>\n      <td>EC</td>\n      <td>-0.9000</td>\n      <td>-89.6000</td>\n      <td>76.51</td>\n      <td>87</td>\n      <td>22</td>\n      <td>8.05</td>\n      <td>few clouds</td>\n    </tr>\n    <tr>\n      <th>679</th>\n      <td>679</td>\n      <td>Poum</td>\n      <td>NC</td>\n      <td>-20.2333</td>\n      <td>164.0167</td>\n      <td>81.32</td>\n      <td>66</td>\n      <td>6</td>\n      <td>7.27</td>\n      <td>clear sky</td>\n    </tr>\n    <tr>\n      <th>680</th>\n      <td>680</td>\n      <td>Dingle</td>\n      <td>PH</td>\n      <td>10.9995</td>\n      <td>122.6711</td>\n      <td>82.35</td>\n      <td>79</td>\n      <td>58</td>\n      <td>13.65</td>\n      <td>broken clouds</td>\n    </tr>\n    <tr>\n      <th>681</th>\n      <td>681</td>\n      <td>Vila Velha</td>\n      <td>BR</td>\n      <td>-20.3297</td>\n      <td>-40.2925</td>\n      <td>73.99</td>\n      <td>88</td>\n      <td>90</td>\n      <td>6.91</td>\n      <td>overcast clouds</td>\n    </tr>\n  </tbody>\n</table>\n<p>290 rows × 10 columns</p>\n</div>"
     },
     "metadata": {},
     "execution_count": 45
    }
   ],
   "source": [
    "# 4b. Drop any empty rows and create a new DataFrame that doesn’t have empty rows.\n",
    "\n",
    "clean_df = preferred_cities_df.dropna()\n",
    "clean_df"
   ]
  },
  {
   "cell_type": "code",
   "execution_count": 47,
   "metadata": {},
   "outputs": [
    {
     "output_type": "execute_result",
     "data": {
      "text/plain": [
       "     City_ID                     City Country      Lat       Lng  Max Temp  \\\n",
       "0          0                      Eyl      SO   7.9803   49.8164     75.24   \n",
       "2          2                  Rikitea      PF -23.1203 -134.9692     78.42   \n",
       "6          6               Banda Aceh      ID   5.5577   95.3222     85.19   \n",
       "7          7                Hithadhoo      MV  -0.6000   73.0833     81.61   \n",
       "8          8                    Akyab      MM  20.1500   92.9000     74.55   \n",
       "..       ...                      ...     ...      ...       ...       ...   \n",
       "677      677                   Ambulu      ID  -8.3450  113.6058     87.51   \n",
       "678      678  Puerto Baquerizo Moreno      EC  -0.9000  -89.6000     76.51   \n",
       "679      679                     Poum      NC -20.2333  164.0167     81.32   \n",
       "680      680                   Dingle      PH  10.9995  122.6711     82.35   \n",
       "681      681               Vila Velha      BR -20.3297  -40.2925     73.99   \n",
       "\n",
       "     Humidity  Cloudiness  Wind Speed       Description Current Description  \n",
       "0          80          16       13.38        few clouds          few clouds  \n",
       "2          71          87       10.58   overcast clouds     overcast clouds  \n",
       "6          66          26       11.07  scattered clouds    scattered clouds  \n",
       "7          74          33       12.12  scattered clouds    scattered clouds  \n",
       "8          38           0        6.69         clear sky           clear sky  \n",
       "..        ...         ...         ...               ...                 ...  \n",
       "677        62          23        4.05        few clouds          few clouds  \n",
       "678        87          22        8.05        few clouds          few clouds  \n",
       "679        66           6        7.27         clear sky           clear sky  \n",
       "680        79          58       13.65     broken clouds       broken clouds  \n",
       "681        88          90        6.91   overcast clouds     overcast clouds  \n",
       "\n",
       "[290 rows x 11 columns]"
      ],
      "text/html": "<div>\n<style scoped>\n    .dataframe tbody tr th:only-of-type {\n        vertical-align: middle;\n    }\n\n    .dataframe tbody tr th {\n        vertical-align: top;\n    }\n\n    .dataframe thead th {\n        text-align: right;\n    }\n</style>\n<table border=\"1\" class=\"dataframe\">\n  <thead>\n    <tr style=\"text-align: right;\">\n      <th></th>\n      <th>City_ID</th>\n      <th>City</th>\n      <th>Country</th>\n      <th>Lat</th>\n      <th>Lng</th>\n      <th>Max Temp</th>\n      <th>Humidity</th>\n      <th>Cloudiness</th>\n      <th>Wind Speed</th>\n      <th>Description</th>\n      <th>Current Description</th>\n    </tr>\n  </thead>\n  <tbody>\n    <tr>\n      <th>0</th>\n      <td>0</td>\n      <td>Eyl</td>\n      <td>SO</td>\n      <td>7.9803</td>\n      <td>49.8164</td>\n      <td>75.24</td>\n      <td>80</td>\n      <td>16</td>\n      <td>13.38</td>\n      <td>few clouds</td>\n      <td>few clouds</td>\n    </tr>\n    <tr>\n      <th>2</th>\n      <td>2</td>\n      <td>Rikitea</td>\n      <td>PF</td>\n      <td>-23.1203</td>\n      <td>-134.9692</td>\n      <td>78.42</td>\n      <td>71</td>\n      <td>87</td>\n      <td>10.58</td>\n      <td>overcast clouds</td>\n      <td>overcast clouds</td>\n    </tr>\n    <tr>\n      <th>6</th>\n      <td>6</td>\n      <td>Banda Aceh</td>\n      <td>ID</td>\n      <td>5.5577</td>\n      <td>95.3222</td>\n      <td>85.19</td>\n      <td>66</td>\n      <td>26</td>\n      <td>11.07</td>\n      <td>scattered clouds</td>\n      <td>scattered clouds</td>\n    </tr>\n    <tr>\n      <th>7</th>\n      <td>7</td>\n      <td>Hithadhoo</td>\n      <td>MV</td>\n      <td>-0.6000</td>\n      <td>73.0833</td>\n      <td>81.61</td>\n      <td>74</td>\n      <td>33</td>\n      <td>12.12</td>\n      <td>scattered clouds</td>\n      <td>scattered clouds</td>\n    </tr>\n    <tr>\n      <th>8</th>\n      <td>8</td>\n      <td>Akyab</td>\n      <td>MM</td>\n      <td>20.1500</td>\n      <td>92.9000</td>\n      <td>74.55</td>\n      <td>38</td>\n      <td>0</td>\n      <td>6.69</td>\n      <td>clear sky</td>\n      <td>clear sky</td>\n    </tr>\n    <tr>\n      <th>...</th>\n      <td>...</td>\n      <td>...</td>\n      <td>...</td>\n      <td>...</td>\n      <td>...</td>\n      <td>...</td>\n      <td>...</td>\n      <td>...</td>\n      <td>...</td>\n      <td>...</td>\n      <td>...</td>\n    </tr>\n    <tr>\n      <th>677</th>\n      <td>677</td>\n      <td>Ambulu</td>\n      <td>ID</td>\n      <td>-8.3450</td>\n      <td>113.6058</td>\n      <td>87.51</td>\n      <td>62</td>\n      <td>23</td>\n      <td>4.05</td>\n      <td>few clouds</td>\n      <td>few clouds</td>\n    </tr>\n    <tr>\n      <th>678</th>\n      <td>678</td>\n      <td>Puerto Baquerizo Moreno</td>\n      <td>EC</td>\n      <td>-0.9000</td>\n      <td>-89.6000</td>\n      <td>76.51</td>\n      <td>87</td>\n      <td>22</td>\n      <td>8.05</td>\n      <td>few clouds</td>\n      <td>few clouds</td>\n    </tr>\n    <tr>\n      <th>679</th>\n      <td>679</td>\n      <td>Poum</td>\n      <td>NC</td>\n      <td>-20.2333</td>\n      <td>164.0167</td>\n      <td>81.32</td>\n      <td>66</td>\n      <td>6</td>\n      <td>7.27</td>\n      <td>clear sky</td>\n      <td>clear sky</td>\n    </tr>\n    <tr>\n      <th>680</th>\n      <td>680</td>\n      <td>Dingle</td>\n      <td>PH</td>\n      <td>10.9995</td>\n      <td>122.6711</td>\n      <td>82.35</td>\n      <td>79</td>\n      <td>58</td>\n      <td>13.65</td>\n      <td>broken clouds</td>\n      <td>broken clouds</td>\n    </tr>\n    <tr>\n      <th>681</th>\n      <td>681</td>\n      <td>Vila Velha</td>\n      <td>BR</td>\n      <td>-20.3297</td>\n      <td>-40.2925</td>\n      <td>73.99</td>\n      <td>88</td>\n      <td>90</td>\n      <td>6.91</td>\n      <td>overcast clouds</td>\n      <td>overcast clouds</td>\n    </tr>\n  </tbody>\n</table>\n<p>290 rows × 11 columns</p>\n</div>"
     },
     "metadata": {},
     "execution_count": 47
    }
   ],
   "source": [
    "# Rename Description column to Current Description\n",
    "clean_df[\"Current Description\"] = clean_df[\"Description\"]\n",
    "clean_df"
   ]
  },
  {
   "cell_type": "code",
   "execution_count": 48,
   "metadata": {},
   "outputs": [
    {
     "output_type": "execute_result",
     "data": {
      "text/plain": [
       "                 City Country  Max Temp Current Description      Lat  \\\n",
       "0                 Eyl      SO     75.24          few clouds   7.9803   \n",
       "2             Rikitea      PF     78.42     overcast clouds -23.1203   \n",
       "6          Banda Aceh      ID     85.19    scattered clouds   5.5577   \n",
       "7           Hithadhoo      MV     81.61    scattered clouds  -0.6000   \n",
       "8               Akyab      MM     74.55           clear sky  20.1500   \n",
       "15               Hilo      US     75.20     overcast clouds  19.7297   \n",
       "16             Pouebo      NC     82.45    scattered clouds -20.4000   \n",
       "18            Kavieng      PG     84.99    scattered clouds  -2.5744   \n",
       "19  Sao Joao Do Piaui      BR     73.27     overcast clouds  -8.3581   \n",
       "20            Mataura      NZ     77.86          few clouds -46.1927   \n",
       "\n",
       "         Lng Hotel Name  \n",
       "0    49.8164             \n",
       "2  -134.9692             \n",
       "6    95.3222             \n",
       "7    73.0833             \n",
       "8    92.9000             \n",
       "15 -155.0900             \n",
       "16  164.5667             \n",
       "18  150.7967             \n",
       "19  -42.2467             \n",
       "20  168.8643             "
      ],
      "text/html": "<div>\n<style scoped>\n    .dataframe tbody tr th:only-of-type {\n        vertical-align: middle;\n    }\n\n    .dataframe tbody tr th {\n        vertical-align: top;\n    }\n\n    .dataframe thead th {\n        text-align: right;\n    }\n</style>\n<table border=\"1\" class=\"dataframe\">\n  <thead>\n    <tr style=\"text-align: right;\">\n      <th></th>\n      <th>City</th>\n      <th>Country</th>\n      <th>Max Temp</th>\n      <th>Current Description</th>\n      <th>Lat</th>\n      <th>Lng</th>\n      <th>Hotel Name</th>\n    </tr>\n  </thead>\n  <tbody>\n    <tr>\n      <th>0</th>\n      <td>Eyl</td>\n      <td>SO</td>\n      <td>75.24</td>\n      <td>few clouds</td>\n      <td>7.9803</td>\n      <td>49.8164</td>\n      <td></td>\n    </tr>\n    <tr>\n      <th>2</th>\n      <td>Rikitea</td>\n      <td>PF</td>\n      <td>78.42</td>\n      <td>overcast clouds</td>\n      <td>-23.1203</td>\n      <td>-134.9692</td>\n      <td></td>\n    </tr>\n    <tr>\n      <th>6</th>\n      <td>Banda Aceh</td>\n      <td>ID</td>\n      <td>85.19</td>\n      <td>scattered clouds</td>\n      <td>5.5577</td>\n      <td>95.3222</td>\n      <td></td>\n    </tr>\n    <tr>\n      <th>7</th>\n      <td>Hithadhoo</td>\n      <td>MV</td>\n      <td>81.61</td>\n      <td>scattered clouds</td>\n      <td>-0.6000</td>\n      <td>73.0833</td>\n      <td></td>\n    </tr>\n    <tr>\n      <th>8</th>\n      <td>Akyab</td>\n      <td>MM</td>\n      <td>74.55</td>\n      <td>clear sky</td>\n      <td>20.1500</td>\n      <td>92.9000</td>\n      <td></td>\n    </tr>\n    <tr>\n      <th>15</th>\n      <td>Hilo</td>\n      <td>US</td>\n      <td>75.20</td>\n      <td>overcast clouds</td>\n      <td>19.7297</td>\n      <td>-155.0900</td>\n      <td></td>\n    </tr>\n    <tr>\n      <th>16</th>\n      <td>Pouebo</td>\n      <td>NC</td>\n      <td>82.45</td>\n      <td>scattered clouds</td>\n      <td>-20.4000</td>\n      <td>164.5667</td>\n      <td></td>\n    </tr>\n    <tr>\n      <th>18</th>\n      <td>Kavieng</td>\n      <td>PG</td>\n      <td>84.99</td>\n      <td>scattered clouds</td>\n      <td>-2.5744</td>\n      <td>150.7967</td>\n      <td></td>\n    </tr>\n    <tr>\n      <th>19</th>\n      <td>Sao Joao Do Piaui</td>\n      <td>BR</td>\n      <td>73.27</td>\n      <td>overcast clouds</td>\n      <td>-8.3581</td>\n      <td>-42.2467</td>\n      <td></td>\n    </tr>\n    <tr>\n      <th>20</th>\n      <td>Mataura</td>\n      <td>NZ</td>\n      <td>77.86</td>\n      <td>few clouds</td>\n      <td>-46.1927</td>\n      <td>168.8643</td>\n      <td></td>\n    </tr>\n  </tbody>\n</table>\n</div>"
     },
     "metadata": {},
     "execution_count": 48
    }
   ],
   "source": [
    "# 5a. Create DataFrame called hotel_df to store hotel names along with city, country, max temp, and coordinates.\n",
    "# copy() method copies the specified LIST of columns into a new DataFrame\n",
    "# Here we index clean_df (square brackets) by a list (square brackets) of column names\n",
    "hotel_df = clean_df[[\"City\", \"Country\", \"Max Temp\", \"Current Description\", \"Lat\", \"Lng\"]].copy()\n",
    "\n",
    "# 5b. Create a new column \"Hotel Name\"\n",
    "hotel_df[\"Hotel Name\"] = \"\"\n",
    "hotel_df.head(10)"
   ]
  },
  {
   "cell_type": "code",
   "execution_count": null,
   "metadata": {},
   "outputs": [],
   "source": []
  },
  {
   "cell_type": "code",
   "execution_count": 69,
   "metadata": {
    "tags": []
   },
   "outputs": [
    {
     "output_type": "stream",
     "name": "stdout",
     "text": [
      "Hotel not found... skipping.\n",
      "Hotel not found... skipping.\n",
      "Hotel not found... skipping.\n",
      "Hotel not found... skipping.\n",
      "Hotel not found... skipping.\n",
      "Hotel not found... skipping.\n",
      "Hotel not found... skipping.\n",
      "Hotel not found... skipping.\n",
      "Hotel not found... skipping.\n",
      "Hotel not found... skipping.\n",
      "Hotel not found... skipping.\n",
      "Hotel not found... skipping.\n",
      "Hotel not found... skipping.\n",
      "Hotel not found... skipping.\n",
      "Hotel not found... skipping.\n",
      "Hotel not found... skipping.\n",
      "Hotel not found... skipping.\n",
      "Hotel not found... skipping.\n",
      "Hotel not found... skipping.\n",
      "Hotel not found... skipping.\n",
      "Hotel not found... skipping.\n",
      "Hotel not found... skipping.\n"
     ]
    }
   ],
   "source": [
    "# 6a. Set parameters to search for hotels with 5000 meters.\n",
    "params = {\n",
    "    \"radius\": 5000,\n",
    "    \"type\": \"lodging\",\n",
    "    \"key\": g_key\n",
    "}\n",
    "\n",
    "# 6b. Iterate through the hotel DataFrame.\n",
    "# Use iterows() function to return one row and its index at a time\n",
    "for index, row in clean_df.iterrows():\n",
    "    # 6c. Get latitude and longitude from DataFrame\n",
    "    lat = row[\"Lat\"]\n",
    "    lng = row[\"Lng\"]\n",
    "    # Add the combination of latitude and longitude to the params dictionary prior to API call under            location key\n",
    "    params[\"location\"] = f\"{lat},{lng}\"\n",
    "    # 6d. Set up the base URL for the Google Directions API to get JSON data.\n",
    "    base_url = \"https://maps.googleapis.com/maps/api/place/nearbysearch/json\"\n",
    "\n",
    "    # 6e. Make request and retrieve the JSON data from the search. \n",
    "    hotels = requests.get(base_url, params=params).json()\n",
    "    \n",
    "    # 6f. Get the first hotel from the results and store the name, if a hotel isn't found skip the city.\n",
    "    try:\n",
    "        hotel_df.loc[index, \"Hotel Name\"] = hotels[\"results\"][0][\"name\"]\n",
    "    except (IndexError):\n",
    "        print(\"Hotel not found... skipping.\")\n",
    "    "
   ]
  },
  {
   "cell_type": "code",
   "execution_count": 67,
   "metadata": {},
   "outputs": [
    {
     "output_type": "execute_result",
     "data": {
      "text/plain": [
       "'Sydney Showboats - Dinner Cruise With Show'"
      ]
     },
     "metadata": {},
     "execution_count": 67
    }
   ],
   "source": [
    "# For learning ---------------------\n",
    "# Testing an API call to look at the output is always helpful, so we know how to access the exact portions of the resulting dictionary\n",
    "# It's better to put this into Chrome with a JSON viewer to format it easily\n",
    "# Doing so reveals that the data is nested under the key \"results\", which reveals multiple restaurants & cruises in Australia\n",
    "# The data format is as follows: DICT, LIST, DICT\n",
    "# Accessing the \"results\" key of the JSON returns a list\n",
    "# To access the first result, we would need to pass the index [0]. Dictionaries cannot be indexed w/ numbers\n",
    "# To access the Name of the establishment, then pass in the \"name\" key\n",
    "test_api = requests.get(\"https://maps.googleapis.com/maps/api/place/nearbysearch/json?location=-33.8670522,151.1957362&radius=1500&type=restaurant&keyword=cruise&key=<API Key>\").json()\n",
    "\n",
    "test_api[\"results\"][1][\"name\"]"
   ]
  },
  {
   "cell_type": "code",
   "execution_count": 80,
   "metadata": {},
   "outputs": [],
   "source": [
    "# 7. Drop the rows where there is no Hotel Name.\n",
    "\n",
    "# Test to see where, if any, rows are null in hotel_df\n",
    "np.where(hotel_df.isnull())\n",
    "# If the output returns two empty arrays, there is no null data in the hotel_df\n",
    "\n",
    "# Can double check by comparing the length of the following Boolean statement with the original Dataset\n",
    "hotel_df.loc[hotel_df[\"Hotel Name\"].isnull() == False]\n",
    "\n",
    "clean_hotel_df = hotel_df\n",
    "# No action required since our API call successfully pulled a hotel for every city passed in"
   ]
  },
  {
   "cell_type": "code",
   "execution_count": 81,
   "metadata": {},
   "outputs": [],
   "source": [
    "# 8a. Create the output File (CSV)\n",
    "output_data_file = \"WeatherPy_vacation.csv\"\n",
    "\n",
    "# 8b. Export the City_Data into a csv\n",
    "clean_hotel_df.to_csv(output_data_file, index_label=\"City_ID\")"
   ]
  },
  {
   "cell_type": "code",
   "execution_count": 94,
   "metadata": {},
   "outputs": [
    {
     "output_type": "execute_result",
     "data": {
      "text/plain": [
       "list"
      ]
     },
     "metadata": {},
     "execution_count": 94
    }
   ],
   "source": [
    "# 9. Using the template add city name, the country code, the weather description and maximum temperature for the city.\n",
    "info_box_template = \"\"\"\n",
    "<dl>\n",
    "<dt>Hotel Name</dt><dd>{Hotel Name}</dd>\n",
    "<dt>City</dt><dd>{City}</dd>\n",
    "<dt>Country</dt><dd>{Country}</dd>\n",
    "<dt>Weather Description</dt><dd>{Current Description}</dd>\n",
    "<dt>Max Temp</dt><dd>{Max Temp} °F</dd>\n",
    "</dl>\n",
    "\"\"\"\n",
    "\n",
    "# 10a. Get the data from each row and add it to the formatting template and store the data in a list.\n",
    "\n",
    "# Since the variables we want to pass in for the list description <dd> are passed in with curly braces above, we can use the .format method to pass in the value from the corresponding row with the column header specified in the curly braces. **row is kwargs, where it takes an unlimited number of arguments, for as many variables, or column names, are asked for in the original statement in info_box_template\n",
    "\n",
    "# For example, our info_box_template looks for Hotel Name, City, Country, Current Description, and Max Temp columns\n",
    "# For each row in clean_hotel_df that we iterate through, we pass in the value in the column indexed by each and every name above\n",
    "hotel_info = [info_box_template.format(**row) for index, row in clean_hotel_df.iterrows()]\n",
    "\n",
    "# 10b. Get the latitude and longitude from each row and store in a new DataFrame.\n",
    "locations = clean_hotel_df[[\"Lat\", \"Lng\"]]\n",
    "\n",
    "locations"
   ]
  },
  {
   "cell_type": "code",
   "execution_count": 98,
   "metadata": {},
   "outputs": [
    {
     "output_type": "display_data",
     "data": {
      "text/plain": "Figure(layout=FigureLayout(height='420px'))",
      "application/vnd.jupyter.widget-view+json": {
       "version_major": 2,
       "version_minor": 0,
       "model_id": "98f75dd3085d439b88f00e0e1d7d3cb9"
      }
     },
     "metadata": {}
    }
   ],
   "source": [
    "# 11a. Add a marker layer for each city to the map. \n",
    "fig = gmaps.figure(center=(30.0, 31.0), zoom_level=1.5)\n",
    "# Maps are created through layering different types of layers, like marker or heatmap layers\n",
    "# the gmaps.marker_layer() function takes the locations DataFrame as an input and the hotel_info list to the info_box_content argument\n",
    "marker_layer = gmaps.marker_layer(locations, info_box_content=hotel_info)\n",
    "# add the created marker object to the figure\n",
    "fig.add_layer(marker_layer)\n",
    "\n",
    "\n",
    "# 11b. Display the figure\n",
    "fig"
   ]
  },
  {
   "cell_type": "code",
   "execution_count": null,
   "metadata": {},
   "outputs": [],
   "source": []
  },
  {
   "cell_type": "code",
   "execution_count": null,
   "metadata": {},
   "outputs": [],
   "source": []
  }
 ],
 "metadata": {
  "kernelspec": {
   "name": "python3",
   "display_name": "Python 3.7.9 64-bit ('PythonData': conda)",
   "metadata": {
    "interpreter": {
     "hash": "4cd7c7a3b14b909643c398b54191d9f59d48810cd9771b7672f479dba4a3d987"
    }
   }
  },
  "language_info": {
   "codemirror_mode": {
    "name": "ipython",
    "version": 3
   },
   "file_extension": ".py",
   "mimetype": "text/x-python",
   "name": "python",
   "nbconvert_exporter": "python",
   "pygments_lexer": "ipython3",
   "version": "3.7.9-final"
  },
  "latex_envs": {
   "LaTeX_envs_menu_present": true,
   "autoclose": false,
   "autocomplete": true,
   "bibliofile": "biblio.bib",
   "cite_by": "apalike",
   "current_citInitial": 1,
   "eqLabelWithNumbers": true,
   "eqNumInitial": 1,
   "hotkeys": {
    "equation": "Ctrl-E",
    "itemize": "Ctrl-I"
   },
   "labels_anchors": false,
   "latex_user_defs": false,
   "report_style_numbering": false,
   "user_envs_cfg": false
  }
 },
 "nbformat": 4,
 "nbformat_minor": 2
}
