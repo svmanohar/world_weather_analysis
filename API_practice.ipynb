{
 "metadata": {
  "language_info": {
   "codemirror_mode": {
    "name": "ipython",
    "version": 3
   },
   "file_extension": ".py",
   "mimetype": "text/x-python",
   "name": "python",
   "nbconvert_exporter": "python",
   "pygments_lexer": "ipython3",
   "version": "3.7.1-final"
  },
  "orig_nbformat": 2,
  "kernelspec": {
   "name": "python3",
   "display_name": "Python 3",
   "language": "python"
  }
 },
 "nbformat": 4,
 "nbformat_minor": 2,
 "cells": [
  {
   "cell_type": "code",
   "execution_count": 2,
   "metadata": {},
   "outputs": [],
   "source": [
    "# Practicing API calls\n",
    "# Import requests\n",
    "import requests\n",
    "\n",
    "# Import our API key\n",
    "# Note we can use the from x import y format to access not only Python packages, but other user defined files like variables in other scripts\n",
    "# Config.py is the name of our config file and weather_api_key is the API key\n",
    "# A user could just access the config file and adapt the program to their own API key, if the script was redistributed\n",
    "# Best practice to do this; exposing my API key in a public repository can lead to fraud\n",
    "from config import weather_api_key\n"
   ]
  },
  {
   "cell_type": "code",
   "execution_count": 3,
   "metadata": {},
   "outputs": [
    {
     "output_type": "stream",
     "name": "stdout",
     "text": [
      "http://api.openweathermap.org/data/2.5/weather?units=Imperial&APPID=6a3c0ba9a2f12717bdf099c374394f0a\n"
     ]
    }
   ],
   "source": [
    "# Making an API Call -----------------------\n",
    "\n",
    "# Starting URL for Weather Map API Call.\n",
    "url = \"http://api.openweathermap.org/data/2.5/weather?units=Imperial&APPID=\" + weather_api_key\n",
    "print(url)\n",
    "\n",
    "# The following URL does not return a city, because we haven't specified one!"
   ]
  },
  {
   "cell_type": "code",
   "execution_count": 26,
   "metadata": {},
   "outputs": [
    {
     "output_type": "stream",
     "name": "stdout",
     "text": [
      "http://api.openweathermap.org/data/2.5/weather?units=Imperial&APPID=6a3c0ba9a2f12717bdf099c374394f0a&q=Boston\n"
     ]
    }
   ],
   "source": [
    "# Create an endpoint URL for a city.\n",
    "# In the context of this API, the ampersand & is used to separate conditions. In the final URL, our conditions are units = Imperial, APPID = {API key}, and q=Boston, which signifies the city we are calling weather for\n",
    "city_url = url + \"&q=\" + \"Boston\"\n",
    "print(city_url)"
   ]
  },
  {
   "cell_type": "code",
   "execution_count": 38,
   "metadata": {},
   "outputs": [
    {
     "output_type": "stream",
     "name": "stdout",
     "text": [
      "City Weather found.\n"
     ]
    },
    {
     "output_type": "execute_result",
     "data": {
      "text/plain": [
       "dict_keys(['coord', 'weather', 'base', 'main', 'visibility', 'wind', 'clouds', 'dt', 'sys', 'timezone', 'id', 'name', 'cod'])"
      ]
     },
     "metadata": {},
     "execution_count": 38
    }
   ],
   "source": [
    "# Best practice is to construct the API call out of variables\n",
    "# From the requests library, call the get() method on the city_url to actually MAKE the API call and return a RESPONSE (requests.models.Response) object\n",
    "\n",
    "city_weather = requests.get(city_url)\n",
    "\n",
    "# To convert the text into a JSON object, we use the .json() method on the response. In Python, the JSON is considered a DICTIONARY\n",
    "city_response = city_weather.json()\n",
    "\n",
    "# Access the dictionary's keys using the .keys() method\n",
    "city_response.keys()\n",
    "\n"
   ]
  },
  {
   "cell_type": "code",
   "execution_count": 29,
   "metadata": {},
   "outputs": [
    {
     "output_type": "execute_result",
     "data": {
      "text/plain": [
       "200"
      ]
     },
     "metadata": {},
     "execution_count": 29
    }
   ],
   "source": [
    "# Status codes -------------------------------\n",
    "\n",
    "# We can debug errors with the response of an API call using \"Status Codes\"\n",
    "# You are familiar with the 404 code when a website isn't found\n",
    "# Alternatively, when the call is successful, we get a 200 code:\n",
    "city_weather.status_code\n",
    "\n",
    "# We can use this information in combination with Exception Handling (\"Try, Raise\")"
   ]
  },
  {
   "cell_type": "code",
   "execution_count": 37,
   "metadata": {},
   "outputs": [
    {
     "output_type": "execute_result",
     "data": {
      "text/plain": [
       "'{\"coord\":{\"lon\":-71.0598,\"lat\":42.3584},\"weather\":[{\"id\":804,\"main\":\"Clouds\",\"description\":\"overcast clouds\",\"icon\":\"04n\"}],\"base\":\"stations\",\"main\":{\"temp\":32.59,\"feels_like\":22.32,\"temp_min\":32,\"temp_max\":34,\"pressure\":1000,\"humidity\":74},\"visibility\":10000,\"wind\":{\"speed\":10.36,\"deg\":300},\"clouds\":{\"all\":90},\"dt\":1612401280,\"sys\":{\"type\":1,\"id\":3486,\"country\":\"US\",\"sunrise\":1612353329,\"sunset\":1612389639},\"timezone\":-18000,\"id\":4930956,\"name\":\"Boston\",\"cod\":200}'"
      ]
     },
     "metadata": {},
     "execution_count": 37
    }
   ],
   "source": [
    "# The response call could be converted to Text, instead of JSON, by accessing the .text attribute of the Response\n",
    "city_weather.text"
   ]
  },
  {
   "cell_type": "code",
   "execution_count": 16,
   "metadata": {},
   "outputs": [
    {
     "output_type": "execute_result",
     "data": {
      "text/plain": [
       "{'temp': 32.58,\n",
       " 'feels_like': 23.59,\n",
       " 'temp_min': 32,\n",
       " 'temp_max': 34,\n",
       " 'pressure': 1000,\n",
       " 'humidity': 74}"
      ]
     },
     "metadata": {},
     "execution_count": 16
    }
   ],
   "source": [
    "# We can get the values for a given key by passing the key into the .get() method\n",
    "weather_json.get(\"main\")\n",
    "\n",
    "# The get() method is from the Requests Library and allows for manuipulation of data returned from an API call (\"the request\")\n",
    "# Docs: https://requests.kennethreitz.org/en/master/"
   ]
  },
  {
   "cell_type": "code",
   "execution_count": 39,
   "metadata": {},
   "outputs": [
    {
     "output_type": "stream",
     "name": "stdout",
     "text": [
      "City Weather found.\n"
     ]
    }
   ],
   "source": [
    "# Exception Handling -------------------------------\n",
    "\n",
    "# Create an endpoint URL for a city.\n",
    "# To leverage the information Status Codes gives us, we can create a conditional argument. We know status_code 200 is returned when data is found. \n",
    "# Therefore we can return information to the user if an error has occured, or if the API call was successful\n",
    "city_url = url + \"&q=\" + \"Boston\"\n",
    "city_weather = requests.get(city_url)\n",
    "if city_weather.status_code == 200:\n",
    "    print(f\"City Weather found.\")\n",
    "else:\n",
    "    print(f\"City weather not found.\")"
   ]
  },
  {
   "cell_type": "code",
   "execution_count": null,
   "metadata": {},
   "outputs": [],
   "source": []
  }
 ]
}