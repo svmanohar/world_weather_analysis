{
 "metadata": {
  "language_info": {
   "codemirror_mode": {
    "name": "ipython",
    "version": 3
   },
   "file_extension": ".py",
   "mimetype": "text/x-python",
   "name": "python",
   "nbconvert_exporter": "python",
   "pygments_lexer": "ipython3",
   "version": "3.7.9-final"
  },
  "orig_nbformat": 2,
  "kernelspec": {
   "name": "python3",
   "display_name": "Python 3.7.9 64-bit ('PythonData': conda)",
   "metadata": {
    "interpreter": {
     "hash": "7c81055649b6d896a4473f6f2025e54651f79c36eb2364b15b1c5864979abcdc"
    }
   }
  }
 },
 "nbformat": 4,
 "nbformat_minor": 2,
 "cells": [
  {
   "cell_type": "code",
   "execution_count": 8,
   "metadata": {},
   "outputs": [],
   "source": [
    "# Import the dependencies.\n",
    "import pandas as pd\n",
    "import gmaps\n",
    "import requests\n",
    "# Import the API key.\n",
    "from config import g_key\n"
   ]
  },
  {
   "cell_type": "code",
   "execution_count": 9,
   "metadata": {},
   "outputs": [
    {
     "output_type": "execute_result",
     "data": {
      "text/plain": [
       "   City_ID        City Country                 Date      Lat       Lng  \\\n",
       "0        0      Weinan      CN  2021-02-05 22:32:26  34.5036  109.5089   \n",
       "1        1   Esperance      AU  2021-02-05 22:32:26 -33.8667  121.9000   \n",
       "2        2  Nikolskoye      RU  2021-02-05 22:32:26  59.7035   30.7861   \n",
       "3        3       Arlit      NE  2021-02-05 22:32:27  18.7369    7.3853   \n",
       "4        4       Moree      AU  2021-02-05 22:32:27 -29.4667  149.8500   \n",
       "\n",
       "   Max Temp  Humidity  Cloudiness  Wind Speed  \n",
       "0     41.00        74           0        2.24  \n",
       "1     59.00        94          90        4.61  \n",
       "2     12.00        78          75       13.42  \n",
       "3     65.77        24           0        5.48  \n",
       "4     75.20        60          90       19.57  "
      ],
      "text/html": "<div>\n<style scoped>\n    .dataframe tbody tr th:only-of-type {\n        vertical-align: middle;\n    }\n\n    .dataframe tbody tr th {\n        vertical-align: top;\n    }\n\n    .dataframe thead th {\n        text-align: right;\n    }\n</style>\n<table border=\"1\" class=\"dataframe\">\n  <thead>\n    <tr style=\"text-align: right;\">\n      <th></th>\n      <th>City_ID</th>\n      <th>City</th>\n      <th>Country</th>\n      <th>Date</th>\n      <th>Lat</th>\n      <th>Lng</th>\n      <th>Max Temp</th>\n      <th>Humidity</th>\n      <th>Cloudiness</th>\n      <th>Wind Speed</th>\n    </tr>\n  </thead>\n  <tbody>\n    <tr>\n      <th>0</th>\n      <td>0</td>\n      <td>Weinan</td>\n      <td>CN</td>\n      <td>2021-02-05 22:32:26</td>\n      <td>34.5036</td>\n      <td>109.5089</td>\n      <td>41.00</td>\n      <td>74</td>\n      <td>0</td>\n      <td>2.24</td>\n    </tr>\n    <tr>\n      <th>1</th>\n      <td>1</td>\n      <td>Esperance</td>\n      <td>AU</td>\n      <td>2021-02-05 22:32:26</td>\n      <td>-33.8667</td>\n      <td>121.9000</td>\n      <td>59.00</td>\n      <td>94</td>\n      <td>90</td>\n      <td>4.61</td>\n    </tr>\n    <tr>\n      <th>2</th>\n      <td>2</td>\n      <td>Nikolskoye</td>\n      <td>RU</td>\n      <td>2021-02-05 22:32:26</td>\n      <td>59.7035</td>\n      <td>30.7861</td>\n      <td>12.00</td>\n      <td>78</td>\n      <td>75</td>\n      <td>13.42</td>\n    </tr>\n    <tr>\n      <th>3</th>\n      <td>3</td>\n      <td>Arlit</td>\n      <td>NE</td>\n      <td>2021-02-05 22:32:27</td>\n      <td>18.7369</td>\n      <td>7.3853</td>\n      <td>65.77</td>\n      <td>24</td>\n      <td>0</td>\n      <td>5.48</td>\n    </tr>\n    <tr>\n      <th>4</th>\n      <td>4</td>\n      <td>Moree</td>\n      <td>AU</td>\n      <td>2021-02-05 22:32:27</td>\n      <td>-29.4667</td>\n      <td>149.8500</td>\n      <td>75.20</td>\n      <td>60</td>\n      <td>90</td>\n      <td>19.57</td>\n    </tr>\n  </tbody>\n</table>\n</div>"
     },
     "metadata": {},
     "execution_count": 9
    }
   ],
   "source": [
    "# Store the CSV you saved created in part one into a DataFrame.\n",
    "city_data_df = pd.read_csv(\"weather_data/cities.csv\")\n",
    "city_data_df.head()"
   ]
  },
  {
   "cell_type": "code",
   "execution_count": 10,
   "metadata": {},
   "outputs": [
    {
     "output_type": "execute_result",
     "data": {
      "text/plain": [
       "City_ID         int64\n",
       "City           object\n",
       "Country        object\n",
       "Date           object\n",
       "Lat           float64\n",
       "Lng           float64\n",
       "Max Temp      float64\n",
       "Humidity        int64\n",
       "Cloudiness      int64\n",
       "Wind Speed    float64\n",
       "dtype: object"
      ]
     },
     "metadata": {},
     "execution_count": 10
    }
   ],
   "source": [
    "# Note data used for mapping in gmaps must be in integer or float format\n",
    "city_data_df.dtypes\n",
    "# Data we need (x, y variables) are in float64 or int64 format"
   ]
  },
  {
   "cell_type": "code",
   "execution_count": 11,
   "metadata": {},
   "outputs": [],
   "source": [
    "# Configure gmaps to use your Google API key.\n",
    "gmaps.configure(api_key=g_key)"
   ]
  },
  {
   "cell_type": "code",
   "execution_count": 12,
   "metadata": {},
   "outputs": [
    {
     "output_type": "error",
     "ename": "SyntaxError",
     "evalue": "invalid syntax (<ipython-input-12-c9af8c564bea>, line 6)",
     "traceback": [
      "\u001b[1;36m  File \u001b[1;32m\"<ipython-input-12-c9af8c564bea>\"\u001b[1;36m, line \u001b[1;32m6\u001b[0m\n\u001b[1;33m    temperatures = # an array of length equal to the locations array length\u001b[0m\n\u001b[1;37m                                                                           ^\u001b[0m\n\u001b[1;31mSyntaxError\u001b[0m\u001b[1;31m:\u001b[0m invalid syntax\n"
     ]
    }
   ],
   "source": [
    "# General Syntax for creating a heatmap ----------------------------------------------\n",
    "\n",
    "# 1. Assign the locations to an array of latitude and longitude pairs.\n",
    "locations = [latitude, longitude]\n",
    "# 2. Assign the weights variable to some values.\n",
    "temperatures = # an array of length equal to the locations array length\n",
    "# 3. Assign the figure variable to the gmaps.figure() attribute.\n",
    "fig = gmaps.figure()\n",
    "# 4. Assign the heatmap_layer variable to the heatmap_layer attribute and add in the locations.\n",
    "heatmap_layer = gmaps.heatmap_layer(locations, weights=temperatures)\n",
    "\n",
    "# 5. Add the heatmap layer.\n",
    "fig.add_layer(heatmap_layer)\n",
    "# 6. Call the figure to plot the data.\n",
    "fig"
   ]
  },
  {
   "cell_type": "code",
   "execution_count": 13,
   "metadata": {},
   "outputs": [],
   "source": [
    "# Get the maximum temperature.\n",
    "# Because the weight of temperatures does not take negative values, any temperature below 0 will not be plotted\n",
    "# To avoid this, we loop through our Max Temp column in our dataframe, and add the MAXIMUM VALUE between 0 and the temperature passed in\n",
    "# If a negative number is passed in for temp in max_temp, then 0 is returned\n",
    "# This converts the values in max_temp array into a new array, temps, with values >= 0\n",
    "max_temp = city_data_df[\"Max Temp\"]\n",
    "temps = []\n",
    "for temp in max_temp:\n",
    "    temps.append(max(temp, 0))"
   ]
  },
  {
   "cell_type": "code",
   "execution_count": 14,
   "metadata": {},
   "outputs": [
    {
     "output_type": "display_data",
     "data": {
      "text/plain": "Figure(layout=FigureLayout(height='420px'))",
      "application/vnd.jupyter.widget-view+json": {
       "version_major": 2,
       "version_minor": 0,
       "model_id": "84a05fa6408e430db880fdc84aefd792"
      }
     },
     "metadata": {}
    }
   ],
   "source": [
    "# Heatmap of temperature\n",
    "# Get the latitude and longitude.\n",
    "locations = city_data_df[[\"Lat\", \"Lng\"]]\n",
    "# Get the maximum temperature.\n",
    "max_temp = city_data_df[\"Max Temp\"]\n",
    "# Assign the figure variable.\n",
    "fig = gmaps.figure()\n",
    "# Assign the heatmap variable.\n",
    "heat_layer = gmaps.heatmap_layer(locations, weights=temps)\n",
    "# Add the heatmap layer.\n",
    "fig.add_layer(heat_layer)\n",
    "# Call the figure to plot the data.\n",
    "fig"
   ]
  },
  {
   "cell_type": "code",
   "execution_count": null,
   "metadata": {},
   "outputs": [],
   "source": [
    "# List comprehension format:\n"
   ]
  },
  {
   "cell_type": "code",
   "execution_count": 23,
   "metadata": {},
   "outputs": [
    {
     "output_type": "display_data",
     "data": {
      "text/plain": "Figure(layout=FigureLayout(height='420px'))",
      "application/vnd.jupyter.widget-view+json": {
       "version_major": 2,
       "version_minor": 0,
       "model_id": "2101e2dbf48242c482fb064fc0979008"
      }
     },
     "metadata": {}
    }
   ],
   "source": [
    "# Heatmap of temperature - LIST COMPREHENSION VERSION\n",
    "# Get the latitude and longitude.\n",
    "locations = city_data_df[[\"Lat\", \"Lng\"]]\n",
    "# Get the maximum temperature.\n",
    "max_temp = city_data_df[\"Max Temp\"]\n",
    "# Assign the figure variable.\n",
    "# We can configure the Heatmap output's Zoom, intensity, and point radius by using parameters on the gmaps.figure attribute\n",
    "fig = gmaps.figure(center=(30.0, 31.0), zoom_level=1.5)\n",
    "# Assign the heatmap variable.\n",
    "# Instead of having to rely on the for loop above, we can instead pass in a list comprehension to the weights argument:\n",
    "heat_layer = gmaps.heatmap_layer(locations, weights=[max(temp,0) for temp in max_temp])\n",
    "# WE can modify certain parameters of the heat_layer as well: dissipating, max_intensity, and point_radius\n",
    "# Check docs for explanation\n",
    "heat_layer = gmaps.heatmap_layer(locations, weights=[max(temp,0) for temp in max_temp], dissipating=False, max_intensity=300, point_radius=4)\n",
    "# Add the heatmap layer.\n",
    "fig.add_layer(heat_layer)\n",
    "# Call the figure to plot the data.\n",
    "\n",
    "fig"
   ]
  },
  {
   "cell_type": "code",
   "execution_count": 24,
   "metadata": {},
   "outputs": [
    {
     "output_type": "display_data",
     "data": {
      "text/plain": "Figure(layout=FigureLayout(height='420px'))",
      "application/vnd.jupyter.widget-view+json": {
       "version_major": 2,
       "version_minor": 0,
       "model_id": "06104c94235a4f51a7d9eb5f619d00eb"
      }
     },
     "metadata": {}
    }
   ],
   "source": [
    "# Heatmap of percent humidity\n",
    "locations = city_data_df[[\"Lat\", \"Lng\"]]\n",
    "humidity = city_data_df[\"Humidity\"]\n",
    "fig = gmaps.figure(center=(30.0, 31.0), zoom_level=1.5)\n",
    "heat_layer = gmaps.heatmap_layer(locations, weights=humidity, dissipating=False, max_intensity=300, point_radius=4)\n",
    "\n",
    "fig.add_layer(heat_layer)\n",
    "# Call the figure to plot the data.\n",
    "fig"
   ]
  },
  {
   "cell_type": "code",
   "execution_count": 25,
   "metadata": {},
   "outputs": [
    {
     "output_type": "display_data",
     "data": {
      "text/plain": "Figure(layout=FigureLayout(height='420px'))",
      "application/vnd.jupyter.widget-view+json": {
       "version_major": 2,
       "version_minor": 0,
       "model_id": "efd34fcc03924a2e820e5494294ccb7c"
      }
     },
     "metadata": {}
    }
   ],
   "source": [
    "# Heatmap of percent cloudiness\n",
    "locations = city_data_df[[\"Lat\", \"Lng\"]]\n",
    "clouds = city_data_df[\"Cloudiness\"]\n",
    "fig = gmaps.figure(center=(30.0, 31.0), zoom_level=1.5)\n",
    "heat_layer = gmaps.heatmap_layer(locations, weights=clouds, dissipating=False, max_intensity=300, point_radius=4)\n",
    "\n",
    "fig.add_layer(heat_layer)\n",
    "# Call the figure to plot the data.\n",
    "fig"
   ]
  },
  {
   "cell_type": "code",
   "execution_count": 26,
   "metadata": {},
   "outputs": [
    {
     "output_type": "display_data",
     "data": {
      "text/plain": "Figure(layout=FigureLayout(height='420px'))",
      "application/vnd.jupyter.widget-view+json": {
       "version_major": 2,
       "version_minor": 0,
       "model_id": "a81f6f05b92049898066c49df441ed87"
      }
     },
     "metadata": {}
    }
   ],
   "source": [
    "# Heatmap of percent cloudiness\n",
    "locations = city_data_df[[\"Lat\", \"Lng\"]]\n",
    "wind = city_data_df[\"Wind Speed\"]\n",
    "fig = gmaps.figure(center=(30.0, 31.0), zoom_level=1.5)\n",
    "heat_layer = gmaps.heatmap_layer(locations, weights=wind, dissipating=False, max_intensity=300, point_radius=4)\n",
    "\n",
    "fig.add_layer(heat_layer)\n",
    "# Call the figure to plot the data.\n",
    "fig"
   ]
  },
  {
   "cell_type": "code",
   "execution_count": 28,
   "metadata": {},
   "outputs": [
    {
     "output_type": "execute_result",
     "data": {
      "text/plain": [
       "    City_ID        City Country                 Date      Lat       Lng  \\\n",
       "4         4       Moree      AU  2021-02-05 22:32:27 -29.4667  149.8500   \n",
       "6         6  Butaritari      KI  2021-02-05 22:32:27   3.0707  172.7902   \n",
       "9         9       Luwuk      ID  2021-02-05 22:32:27  -0.9516  122.7875   \n",
       "10       10      Atuona      PF  2021-02-05 22:32:27  -9.8000 -139.0333   \n",
       "11       11        Hilo      US  2021-02-05 22:31:47  19.7297 -155.0900   \n",
       "12       12     Rikitea      PF  2021-02-05 22:32:27 -23.1203 -134.9692   \n",
       "16       16  Port Blair      IN  2021-02-05 22:32:28  11.6667   92.7500   \n",
       "18       18  Vila Velha      BR  2021-02-05 22:32:28 -20.3297  -40.2925   \n",
       "36       36    Nuevitas      CU  2021-02-05 22:32:30  21.5453  -77.2644   \n",
       "42       42    Bengkulu      ID  2021-02-05 22:32:31  -3.8004  102.2655   \n",
       "\n",
       "    Max Temp  Humidity  Cloudiness  Wind Speed  \n",
       "4      75.20        60          90       19.57  \n",
       "6      81.61        80          87       18.52  \n",
       "9      78.69        72         100        3.62  \n",
       "10     79.56        81           4       17.76  \n",
       "11     78.80        57           1        5.75  \n",
       "12     79.18        69           1       11.88  \n",
       "16     77.70        76          17        6.13  \n",
       "18     81.00        78          75       11.50  \n",
       "36     82.40        65          75        9.22  \n",
       "42     75.81        82          87        4.29  "
      ],
      "text/html": "<div>\n<style scoped>\n    .dataframe tbody tr th:only-of-type {\n        vertical-align: middle;\n    }\n\n    .dataframe tbody tr th {\n        vertical-align: top;\n    }\n\n    .dataframe thead th {\n        text-align: right;\n    }\n</style>\n<table border=\"1\" class=\"dataframe\">\n  <thead>\n    <tr style=\"text-align: right;\">\n      <th></th>\n      <th>City_ID</th>\n      <th>City</th>\n      <th>Country</th>\n      <th>Date</th>\n      <th>Lat</th>\n      <th>Lng</th>\n      <th>Max Temp</th>\n      <th>Humidity</th>\n      <th>Cloudiness</th>\n      <th>Wind Speed</th>\n    </tr>\n  </thead>\n  <tbody>\n    <tr>\n      <th>4</th>\n      <td>4</td>\n      <td>Moree</td>\n      <td>AU</td>\n      <td>2021-02-05 22:32:27</td>\n      <td>-29.4667</td>\n      <td>149.8500</td>\n      <td>75.20</td>\n      <td>60</td>\n      <td>90</td>\n      <td>19.57</td>\n    </tr>\n    <tr>\n      <th>6</th>\n      <td>6</td>\n      <td>Butaritari</td>\n      <td>KI</td>\n      <td>2021-02-05 22:32:27</td>\n      <td>3.0707</td>\n      <td>172.7902</td>\n      <td>81.61</td>\n      <td>80</td>\n      <td>87</td>\n      <td>18.52</td>\n    </tr>\n    <tr>\n      <th>9</th>\n      <td>9</td>\n      <td>Luwuk</td>\n      <td>ID</td>\n      <td>2021-02-05 22:32:27</td>\n      <td>-0.9516</td>\n      <td>122.7875</td>\n      <td>78.69</td>\n      <td>72</td>\n      <td>100</td>\n      <td>3.62</td>\n    </tr>\n    <tr>\n      <th>10</th>\n      <td>10</td>\n      <td>Atuona</td>\n      <td>PF</td>\n      <td>2021-02-05 22:32:27</td>\n      <td>-9.8000</td>\n      <td>-139.0333</td>\n      <td>79.56</td>\n      <td>81</td>\n      <td>4</td>\n      <td>17.76</td>\n    </tr>\n    <tr>\n      <th>11</th>\n      <td>11</td>\n      <td>Hilo</td>\n      <td>US</td>\n      <td>2021-02-05 22:31:47</td>\n      <td>19.7297</td>\n      <td>-155.0900</td>\n      <td>78.80</td>\n      <td>57</td>\n      <td>1</td>\n      <td>5.75</td>\n    </tr>\n    <tr>\n      <th>12</th>\n      <td>12</td>\n      <td>Rikitea</td>\n      <td>PF</td>\n      <td>2021-02-05 22:32:27</td>\n      <td>-23.1203</td>\n      <td>-134.9692</td>\n      <td>79.18</td>\n      <td>69</td>\n      <td>1</td>\n      <td>11.88</td>\n    </tr>\n    <tr>\n      <th>16</th>\n      <td>16</td>\n      <td>Port Blair</td>\n      <td>IN</td>\n      <td>2021-02-05 22:32:28</td>\n      <td>11.6667</td>\n      <td>92.7500</td>\n      <td>77.70</td>\n      <td>76</td>\n      <td>17</td>\n      <td>6.13</td>\n    </tr>\n    <tr>\n      <th>18</th>\n      <td>18</td>\n      <td>Vila Velha</td>\n      <td>BR</td>\n      <td>2021-02-05 22:32:28</td>\n      <td>-20.3297</td>\n      <td>-40.2925</td>\n      <td>81.00</td>\n      <td>78</td>\n      <td>75</td>\n      <td>11.50</td>\n    </tr>\n    <tr>\n      <th>36</th>\n      <td>36</td>\n      <td>Nuevitas</td>\n      <td>CU</td>\n      <td>2021-02-05 22:32:30</td>\n      <td>21.5453</td>\n      <td>-77.2644</td>\n      <td>82.40</td>\n      <td>65</td>\n      <td>75</td>\n      <td>9.22</td>\n    </tr>\n    <tr>\n      <th>42</th>\n      <td>42</td>\n      <td>Bengkulu</td>\n      <td>ID</td>\n      <td>2021-02-05 22:32:31</td>\n      <td>-3.8004</td>\n      <td>102.2655</td>\n      <td>75.81</td>\n      <td>82</td>\n      <td>87</td>\n      <td>4.29</td>\n    </tr>\n  </tbody>\n</table>\n</div>"
     },
     "metadata": {},
     "execution_count": 28
    }
   ],
   "source": [
    "# Next we want to allow a customer to pass in a parameter like minimum and maximum temperature for our app to give them vacation spot ideas\n",
    "# We will pass in the min_temp and max_temp values into a .loc call on our dataset to do a filter and return only cities that meet the criteria specified\n",
    "# Ask the customer to add a minimum and maximum temperature value.\n",
    "min_temp = float(input(\"What is the minimum temperature you would like for your trip? \"))\n",
    "max_temp = float(input(\"What is the maximum temperature you would like for your trip? \"))\n",
    "\n",
    "# Filter the dataset to find the cities that fit the criteria, using the loc() function and passing in a Boolean condition based off the above\n",
    "preferred_cities_df = city_data_df.loc[(city_data_df[\"Max Temp\"] <= max_temp) & (city_data_df[\"Max Temp\"] >= min_temp)]\n",
    "preferred_cities_df.head(10)"
   ]
  },
  {
   "cell_type": "code",
   "execution_count": 30,
   "metadata": {},
   "outputs": [
    {
     "output_type": "execute_result",
     "data": {
      "text/plain": [
       "City_ID       159\n",
       "City          159\n",
       "Country       159\n",
       "Date          159\n",
       "Lat           159\n",
       "Lng           159\n",
       "Max Temp      159\n",
       "Humidity      159\n",
       "Cloudiness    159\n",
       "Wind Speed    159\n",
       "dtype: int64"
      ]
     },
     "metadata": {},
     "execution_count": 30
    }
   ],
   "source": [
    "# It is important to check that our data filtered has no null values which could break our analysis or functions\n",
    "preferred_cities_df.count()\n",
    "# If rows have null values, use the dropna() method to drop those rows"
   ]
  },
  {
   "cell_type": "code",
   "execution_count": 37,
   "metadata": {},
   "outputs": [
    {
     "output_type": "execute_result",
     "data": {
      "text/plain": [
       "          City Country  Max Temp      Lat       Lng Hotel Name\n",
       "4        Moree      AU     75.20 -29.4667  149.8500           \n",
       "6   Butaritari      KI     81.61   3.0707  172.7902           \n",
       "9        Luwuk      ID     78.69  -0.9516  122.7875           \n",
       "10      Atuona      PF     79.56  -9.8000 -139.0333           \n",
       "11        Hilo      US     78.80  19.7297 -155.0900           \n",
       "12     Rikitea      PF     79.18 -23.1203 -134.9692           \n",
       "16  Port Blair      IN     77.70  11.6667   92.7500           \n",
       "18  Vila Velha      BR     81.00 -20.3297  -40.2925           \n",
       "36    Nuevitas      CU     82.40  21.5453  -77.2644           \n",
       "42    Bengkulu      ID     75.81  -3.8004  102.2655           "
      ],
      "text/html": "<div>\n<style scoped>\n    .dataframe tbody tr th:only-of-type {\n        vertical-align: middle;\n    }\n\n    .dataframe tbody tr th {\n        vertical-align: top;\n    }\n\n    .dataframe thead th {\n        text-align: right;\n    }\n</style>\n<table border=\"1\" class=\"dataframe\">\n  <thead>\n    <tr style=\"text-align: right;\">\n      <th></th>\n      <th>City</th>\n      <th>Country</th>\n      <th>Max Temp</th>\n      <th>Lat</th>\n      <th>Lng</th>\n      <th>Hotel Name</th>\n    </tr>\n  </thead>\n  <tbody>\n    <tr>\n      <th>4</th>\n      <td>Moree</td>\n      <td>AU</td>\n      <td>75.20</td>\n      <td>-29.4667</td>\n      <td>149.8500</td>\n      <td></td>\n    </tr>\n    <tr>\n      <th>6</th>\n      <td>Butaritari</td>\n      <td>KI</td>\n      <td>81.61</td>\n      <td>3.0707</td>\n      <td>172.7902</td>\n      <td></td>\n    </tr>\n    <tr>\n      <th>9</th>\n      <td>Luwuk</td>\n      <td>ID</td>\n      <td>78.69</td>\n      <td>-0.9516</td>\n      <td>122.7875</td>\n      <td></td>\n    </tr>\n    <tr>\n      <th>10</th>\n      <td>Atuona</td>\n      <td>PF</td>\n      <td>79.56</td>\n      <td>-9.8000</td>\n      <td>-139.0333</td>\n      <td></td>\n    </tr>\n    <tr>\n      <th>11</th>\n      <td>Hilo</td>\n      <td>US</td>\n      <td>78.80</td>\n      <td>19.7297</td>\n      <td>-155.0900</td>\n      <td></td>\n    </tr>\n    <tr>\n      <th>12</th>\n      <td>Rikitea</td>\n      <td>PF</td>\n      <td>79.18</td>\n      <td>-23.1203</td>\n      <td>-134.9692</td>\n      <td></td>\n    </tr>\n    <tr>\n      <th>16</th>\n      <td>Port Blair</td>\n      <td>IN</td>\n      <td>77.70</td>\n      <td>11.6667</td>\n      <td>92.7500</td>\n      <td></td>\n    </tr>\n    <tr>\n      <th>18</th>\n      <td>Vila Velha</td>\n      <td>BR</td>\n      <td>81.00</td>\n      <td>-20.3297</td>\n      <td>-40.2925</td>\n      <td></td>\n    </tr>\n    <tr>\n      <th>36</th>\n      <td>Nuevitas</td>\n      <td>CU</td>\n      <td>82.40</td>\n      <td>21.5453</td>\n      <td>-77.2644</td>\n      <td></td>\n    </tr>\n    <tr>\n      <th>42</th>\n      <td>Bengkulu</td>\n      <td>ID</td>\n      <td>75.81</td>\n      <td>-3.8004</td>\n      <td>102.2655</td>\n      <td></td>\n    </tr>\n  </tbody>\n</table>\n</div>"
     },
     "metadata": {},
     "execution_count": 37
    }
   ],
   "source": [
    "# With the user-specified data above, we want to present the user with a heatmap as well as markers with details of hotels in cities that fit the criteria\n",
    "\n",
    "# Get travel destinations\n",
    "\n",
    "# Create DataFrame called hotel_df to store hotel names along with city, country, max temp, and coordinates.\n",
    "# Take the user-specified filtered dataframe preferred_cities_df and grab reassign only the relevant columns to a new dataframe using the copy() method\n",
    "hotel_df = preferred_cities_df[[\"City\", \"Country\", \"Max Temp\", \"Lat\", \"Lng\"]].copy()\n",
    "# Create an empty column called Hotel Name\n",
    "hotel_df[\"Hotel Name\"] = \"\"\n",
    "hotel_df.head(10)"
   ]
  },
  {
   "cell_type": "code",
   "execution_count": null,
   "metadata": {},
   "outputs": [],
   "source": [
    "# Using the latitutde and longitude for each city above, pass it into the Google Places Nearby Search feature from Google Places API to pull Hotels:\n",
    "# Docs for place types: https://developers.google.com/places/web-service/supported_types\n",
    "# Docs for Place Search: https://developers.google.com/places/web-service/search?authuser=1\n",
    "# Requests library docs: https://requests.kennethreitz.org/en/master/\n",
    "\n",
    "\n",
    "# We need to construct an API query to access places, using the following format:\n",
    "    # https://maps.googleapis.com/maps/api/place/nearbysearch/json\n",
    "\n",
    "\n"
   ]
  },
  {
   "cell_type": "code",
   "execution_count": 39,
   "metadata": {},
   "outputs": [
    {
     "output_type": "stream",
     "name": "stdout",
     "text": [
      "Hotel not found... skipping.\n",
      "Hotel not found... skipping.\n",
      "Hotel not found... skipping.\n",
      "Hotel not found... skipping.\n",
      "Hotel not found... skipping.\n",
      "Hotel not found... skipping.\n",
      "Hotel not found... skipping.\n",
      "Hotel not found... skipping.\n"
     ]
    }
   ],
   "source": [
    "# Set parameters to search for a hotel.\n",
    "# We want: the API key, the latitude and longitude, the radius (5,000 meter), and the type of place (hotels, or in this case, 'lodging')\n",
    "# Based off the Requests library documentation for the params feature, we can pass in a dictionary of values for the parameters of an API call\n",
    "# This makes it easier to scale code instead of using it for one off instances\n",
    "params = {\n",
    "    \"radius\": 5000,\n",
    "    \"type\": \"lodging\",\n",
    "    \"key\": g_key\n",
    "}\n",
    "\n",
    "# Iterate through the DataFrame.\n",
    "for index, row in hotel_df.iterrows():\n",
    "    # Get the latitude and longitude.\n",
    "    lat = row[\"Lat\"]\n",
    "    lng = row[\"Lng\"]\n",
    "\n",
    "    # Add the latitude and longitude to location key for the params dictionary.\n",
    "    params[\"location\"] = f\"{lat},{lng}\"\n",
    "\n",
    "    # Use the search term: \"lodging\" and our latitude and longitude.\n",
    "    base_url = \"https://maps.googleapis.com/maps/api/place/nearbysearch/json\"\n",
    "    # Make request and get the JSON data from the search.\n",
    "    hotels = requests.get(base_url, params=params).json()\n",
    "    # Grab the first hotel from the results and store the name in the hotel_df dataframe\n",
    "    # In order to know how to access the hotel names, you should look at a test-request and look at the output JSON structure\n",
    "    try:\n",
    "        hotel_df.loc[index, \"Hotel Name\"] = hotels[\"results\"][0][\"name\"]\n",
    "    except (IndexError):\n",
    "        print(\"Hotel not found... skipping.\")"
   ]
  },
  {
   "cell_type": "code",
   "execution_count": 40,
   "metadata": {},
   "outputs": [
    {
     "output_type": "execute_result",
     "data": {
      "text/plain": [
       "                             City Country  Max Temp      Lat       Lng  \\\n",
       "4                           Moree      AU     75.20 -29.4667  149.8500   \n",
       "6                      Butaritari      KI     81.61   3.0707  172.7902   \n",
       "9                           Luwuk      ID     78.69  -0.9516  122.7875   \n",
       "10                         Atuona      PF     79.56  -9.8000 -139.0333   \n",
       "11                           Hilo      US     78.80  19.7297 -155.0900   \n",
       "..                            ...     ...       ...      ...       ...   \n",
       "563  Sao Raimundo Das Mangabeiras      BR     76.37  -7.0219  -45.4811   \n",
       "564                   Trincomalee      LK     77.50   8.5711   81.2335   \n",
       "576                    Sungairaya      ID     75.94   0.7000  108.9000   \n",
       "578                    Popondetta      PG     83.41  -8.7537  148.2534   \n",
       "582                    Kensington      AU     75.00 -33.9167  151.2167   \n",
       "\n",
       "                                            Hotel Name  \n",
       "4                                 Molika Springs Motel  \n",
       "6                                   Isles Sunset Lodge  \n",
       "9                                  Hotel Santika Luwuk  \n",
       "10                                         Villa Enata  \n",
       "11                                 Hilo Hawaiian Hotel  \n",
       "..                                                 ...  \n",
       "563                                     Hotel Tropical  \n",
       "564                                     Welcombe Hotel  \n",
       "576                                        Mess P.Milu  \n",
       "578                                Timos Transit House  \n",
       "582  Stamford Plaza Sydney Airport Hotel & Conferen...  \n",
       "\n",
       "[159 rows x 6 columns]"
      ],
      "text/html": "<div>\n<style scoped>\n    .dataframe tbody tr th:only-of-type {\n        vertical-align: middle;\n    }\n\n    .dataframe tbody tr th {\n        vertical-align: top;\n    }\n\n    .dataframe thead th {\n        text-align: right;\n    }\n</style>\n<table border=\"1\" class=\"dataframe\">\n  <thead>\n    <tr style=\"text-align: right;\">\n      <th></th>\n      <th>City</th>\n      <th>Country</th>\n      <th>Max Temp</th>\n      <th>Lat</th>\n      <th>Lng</th>\n      <th>Hotel Name</th>\n    </tr>\n  </thead>\n  <tbody>\n    <tr>\n      <th>4</th>\n      <td>Moree</td>\n      <td>AU</td>\n      <td>75.20</td>\n      <td>-29.4667</td>\n      <td>149.8500</td>\n      <td>Molika Springs Motel</td>\n    </tr>\n    <tr>\n      <th>6</th>\n      <td>Butaritari</td>\n      <td>KI</td>\n      <td>81.61</td>\n      <td>3.0707</td>\n      <td>172.7902</td>\n      <td>Isles Sunset Lodge</td>\n    </tr>\n    <tr>\n      <th>9</th>\n      <td>Luwuk</td>\n      <td>ID</td>\n      <td>78.69</td>\n      <td>-0.9516</td>\n      <td>122.7875</td>\n      <td>Hotel Santika Luwuk</td>\n    </tr>\n    <tr>\n      <th>10</th>\n      <td>Atuona</td>\n      <td>PF</td>\n      <td>79.56</td>\n      <td>-9.8000</td>\n      <td>-139.0333</td>\n      <td>Villa Enata</td>\n    </tr>\n    <tr>\n      <th>11</th>\n      <td>Hilo</td>\n      <td>US</td>\n      <td>78.80</td>\n      <td>19.7297</td>\n      <td>-155.0900</td>\n      <td>Hilo Hawaiian Hotel</td>\n    </tr>\n    <tr>\n      <th>...</th>\n      <td>...</td>\n      <td>...</td>\n      <td>...</td>\n      <td>...</td>\n      <td>...</td>\n      <td>...</td>\n    </tr>\n    <tr>\n      <th>563</th>\n      <td>Sao Raimundo Das Mangabeiras</td>\n      <td>BR</td>\n      <td>76.37</td>\n      <td>-7.0219</td>\n      <td>-45.4811</td>\n      <td>Hotel Tropical</td>\n    </tr>\n    <tr>\n      <th>564</th>\n      <td>Trincomalee</td>\n      <td>LK</td>\n      <td>77.50</td>\n      <td>8.5711</td>\n      <td>81.2335</td>\n      <td>Welcombe Hotel</td>\n    </tr>\n    <tr>\n      <th>576</th>\n      <td>Sungairaya</td>\n      <td>ID</td>\n      <td>75.94</td>\n      <td>0.7000</td>\n      <td>108.9000</td>\n      <td>Mess P.Milu</td>\n    </tr>\n    <tr>\n      <th>578</th>\n      <td>Popondetta</td>\n      <td>PG</td>\n      <td>83.41</td>\n      <td>-8.7537</td>\n      <td>148.2534</td>\n      <td>Timos Transit House</td>\n    </tr>\n    <tr>\n      <th>582</th>\n      <td>Kensington</td>\n      <td>AU</td>\n      <td>75.00</td>\n      <td>-33.9167</td>\n      <td>151.2167</td>\n      <td>Stamford Plaza Sydney Airport Hotel &amp; Conferen...</td>\n    </tr>\n  </tbody>\n</table>\n<p>159 rows × 6 columns</p>\n</div>"
     },
     "metadata": {},
     "execution_count": 40
    }
   ],
   "source": [
    "hotel_df"
   ]
  },
  {
   "cell_type": "code",
   "execution_count": 41,
   "metadata": {},
   "outputs": [
    {
     "output_type": "display_data",
     "data": {
      "text/plain": "Figure(layout=FigureLayout(height='420px'))",
      "application/vnd.jupyter.widget-view+json": {
       "version_major": 2,
       "version_minor": 0,
       "model_id": "2caae0d1bfde41eaa6ff63e9bf6ed05f"
      }
     },
     "metadata": {}
    }
   ],
   "source": [
    "# Now with our hotel names, we want to add pop-up markers with Hotel Information to the Heat Map\n",
    "\n",
    "# Add a heatmap of temperature for the vacation spots. We pass in the filtered dataframe with hotel names, hotel_df\n",
    "locations = hotel_df[[\"Lat\", \"Lng\"]]\n",
    "max_temp = hotel_df[\"Max Temp\"]\n",
    "fig = gmaps.figure(center=(30.0, 31.0), zoom_level=1.5)\n",
    "heat_layer = gmaps.heatmap_layer(locations, weights=max_temp, dissipating=False,\n",
    "             max_intensity=300, point_radius=4)\n",
    "\n",
    "fig.add_layer(heat_layer)\n",
    "# Call the figure to plot the data.\n",
    "fig"
   ]
  },
  {
   "cell_type": "code",
   "execution_count": 44,
   "metadata": {},
   "outputs": [
    {
     "output_type": "display_data",
     "data": {
      "text/plain": "Figure(layout=FigureLayout(height='420px'))",
      "application/vnd.jupyter.widget-view+json": {
       "version_major": 2,
       "version_minor": 0,
       "model_id": "266fee24bd9a4ae8ac8865711d4fd266"
      }
     },
     "metadata": {}
    }
   ],
   "source": [
    "# How to add markers to heatmap for Google Maps ----------------------------\n",
    "# Docs: https://jupyter-gmaps.readthedocs.io/en/latest/tutorial.html#markers-and-symbols\n",
    "# Syntax: markers = gmaps.marker_layer(marker_locations), where marker_locations are latitudes and longitudes\n",
    "\n",
    "# Add a heatmap of temperature for the vacation spots and marker for each city.\n",
    "# Pass the latitudes and longitude columns to a new dataframe, locations\n",
    "locations = hotel_df[[\"Lat\", \"Lng\"]]\n",
    "# Pass the Max Temp column to a series max_temp\n",
    "max_temp = hotel_df[\"Max Temp\"]\n",
    "fig = gmaps.figure(center=(30.0, 31.0), zoom_level=1.5)\n",
    "heat_layer = gmaps.heatmap_layer(locations, weights=max_temp,\n",
    "             dissipating=False, max_intensity=300, point_radius=4)\n",
    "# Add a marker layer based off the latitude, longitude pairs in the dataframe locations\n",
    "marker_layer = gmaps.marker_layer(locations)\n",
    "# Build our figure layer by layer\n",
    "fig.add_layer(heat_layer)\n",
    "fig.add_layer(marker_layer)\n",
    "# Call the figure to plot the data.\n",
    "fig"
   ]
  },
  {
   "cell_type": "code",
   "execution_count": 54,
   "metadata": {},
   "outputs": [],
   "source": [
    "# Adding pop-up information to our map --------------------------------------\n",
    "# Docs: https://jupyter-gmaps.readthedocs.io/en/latest/tutorial.html#markers-and-symbols\n",
    "\n",
    "# Pop-up markers come in the form of info_box_templates, which are formatted in HTML:\n",
    "\n",
    "info_box_template = \"\"\"\n",
    "<dl>\n",
    "<dt>Hotel Name</dt><dd>{Hotel Name}</dd>\n",
    "<dt>City</dt><dd>{City}</dd>\n",
    "<dt>Country</dt><dd>{Country}</dd>\n",
    "<dt>Max Temp</dt><dd>{Max Temp} °F</dd>\n",
    "</dl>\n",
    "\"\"\"\n",
    "\n",
    "# Store the DataFrame Row.\n",
    "# We format the info_box_template format with the value from each column specified in curly braces above\n",
    "# Python searches each row in hotel_df when iterating through rows for each column's header, and passes it to a new record in the info_box_template list\n",
    "# It uses string formatting to pull in the values specific to the indexed column on the currently iterated row\n",
    "hotel_info = [info_box_template.format(**row) for index, row in hotel_df.iterrows()]\n",
    "\n"
   ]
  },
  {
   "cell_type": "code",
   "execution_count": 53,
   "metadata": {},
   "outputs": [
    {
     "output_type": "execute_result",
     "data": {
      "text/plain": [
       "['\\n<dl>\\n<dt>Hotel Name</dt><dd>Molika Springs Motel</dd>\\n<dt>City</dt><dd>Moree</dd>\\n<dt>Country</dt><dd>AU</dd>\\n<dt>Max Temp</dt><dd>75.2 °F</dd>\\n</dl>\\n',\n",
       " '\\n<dl>\\n<dt>Hotel Name</dt><dd>Isles Sunset Lodge</dd>\\n<dt>City</dt><dd>Butaritari</dd>\\n<dt>Country</dt><dd>KI</dd>\\n<dt>Max Temp</dt><dd>81.61 °F</dd>\\n</dl>\\n',\n",
       " '\\n<dl>\\n<dt>Hotel Name</dt><dd>Hotel Santika Luwuk</dd>\\n<dt>City</dt><dd>Luwuk</dd>\\n<dt>Country</dt><dd>ID</dd>\\n<dt>Max Temp</dt><dd>78.69 °F</dd>\\n</dl>\\n',\n",
       " '\\n<dl>\\n<dt>Hotel Name</dt><dd>Villa Enata</dd>\\n<dt>City</dt><dd>Atuona</dd>\\n<dt>Country</dt><dd>PF</dd>\\n<dt>Max Temp</dt><dd>79.56 °F</dd>\\n</dl>\\n',\n",
       " '\\n<dl>\\n<dt>Hotel Name</dt><dd>Hilo Hawaiian Hotel</dd>\\n<dt>City</dt><dd>Hilo</dd>\\n<dt>Country</dt><dd>US</dd>\\n<dt>Max Temp</dt><dd>78.8 °F</dd>\\n</dl>\\n']"
      ]
     },
     "metadata": {},
     "execution_count": 53
    }
   ],
   "source": [
    "# hotel_info is a list with each piece of information, Hotel Name, City, Country, and Max Temp, separated by HTML\n",
    "# Python does not interpret this, but the Google Maps API will when passed in\n",
    "# Calling the first 5 values of hotel_info reveals the structure of the list:\n",
    "hotel_info[:5]"
   ]
  },
  {
   "cell_type": "code",
   "execution_count": 55,
   "metadata": {},
   "outputs": [
    {
     "output_type": "display_data",
     "data": {
      "text/plain": "Figure(layout=FigureLayout(height='420px'))",
      "application/vnd.jupyter.widget-view+json": {
       "version_major": 2,
       "version_minor": 0,
       "model_id": "33185bbd8b9a40a98f156769acfa0300"
      }
     },
     "metadata": {}
    }
   ],
   "source": [
    "# Add a heatmap of temperature for the vacation spots and a pop-up marker for each city.\n",
    "locations = hotel_df[[\"Lat\", \"Lng\"]]\n",
    "max_temp = hotel_df[\"Max Temp\"]\n",
    "fig = gmaps.figure(center=(30.0, 31.0), zoom_level=1.5)\n",
    "heat_layer = gmaps.heatmap_layer(locations, weights=max_temp,dissipating=False,\n",
    "             max_intensity=300, point_radius=4)\n",
    "marker_layer = gmaps.marker_layer(locations, info_box_content=hotel_info)\n",
    "fig.add_layer(heat_layer)\n",
    "fig.add_layer(marker_layer)\n",
    "\n",
    "# Call the figure to plot the data.\n",
    "fig"
   ]
  },
  {
   "cell_type": "code",
   "execution_count": null,
   "metadata": {},
   "outputs": [],
   "source": []
  }
 ]
}